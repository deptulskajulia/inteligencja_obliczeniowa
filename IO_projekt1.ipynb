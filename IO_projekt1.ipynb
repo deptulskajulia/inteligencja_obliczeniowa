{
 "cells": [
  {
   "cell_type": "markdown",
   "id": "ed144457",
   "metadata": {},
   "source": [
    "# Wstęp"
   ]
  },
  {
   "attachments": {},
   "cell_type": "markdown",
   "id": "f7ea81ef",
   "metadata": {},
   "source": [
    "Kakuro to gra logiczna polegająca na wypełnieniu komórek siatki o rozmiarze n x m liczbami z przedziału od 1 do 9, tak by suma liczb w każdym wierszu i kolumnie była równa określonej wartości tzw. clue oraz aby w jednym wierszu lub kolumnie nie powtarzały się żadne liczby."
   ]
  },
  {
   "cell_type": "markdown",
   "id": "70f9d36e",
   "metadata": {},
   "source": [
    "# Eksperyment"
   ]
  },
  {
   "cell_type": "markdown",
   "id": "d8e69c57",
   "metadata": {},
   "source": [
    "Rozwiązanie łamigłówek Kakuro o określonych rozmiarach - 5x5, 9x8 i 15x15 przy użyciu algorytmu genetycznego."
   ]
  },
  {
   "cell_type": "code",
   "execution_count": 1,
   "id": "030625e4",
   "metadata": {},
   "outputs": [],
   "source": [
    "import collections\n",
    "import pygad\n",
    "import random\n",
    "import numpy\n",
    "import time\n",
    "import copy"
   ]
  },
  {
   "cell_type": "markdown",
   "id": "b2ec459c",
   "metadata": {},
   "source": [
    "9 przykładowych łamigłówek\n",
    "\n",
    "     * - ściana\n",
    "     \n",
    "     _ - puste pole"
   ]
  },
  {
   "cell_type": "code",
   "execution_count": 2,
   "id": "7508e917",
   "metadata": {},
   "outputs": [],
   "source": [
    "# I KAKURO 5x5\n",
    "blank_kakuro = [\n",
    "    ['*',[0,17],[0,6],'*','*'],\n",
    "    [[11,0],'_','_',[0,24],'*'],\n",
    "    [[17,0],'_','_','_',[0,3]],\n",
    "    ['*',[11,0],'_','_','_'],\n",
    "    ['*','*',[11,0],'_','_']\n",
    "]\n",
    "\n",
    "solved_kakuro = [\n",
    "    ['*',[0,17],[0,6],'*','*'],\n",
    "    [[11,0], 8, 3,[0,24],'*'],\n",
    "    [[17,0], 9, 1, 7,[0,3]],\n",
    "    ['*',[11,0], 2, 8, 1],\n",
    "    ['*','*',[11,0], 9, 2]\n",
    "]\n"
   ]
  },
  {
   "cell_type": "code",
   "execution_count": 9,
   "id": "afb81793",
   "metadata": {},
   "outputs": [],
   "source": [
    "# II KAKURO 5x5\n",
    "blank_kakuro = [\n",
    "    ['*','*','*',[0,6],[0,17]],\n",
    "    ['*','*',[11,23],'_','_'],\n",
    "    ['*',[19,17],'_','_','_'],\n",
    "    [[16,0],'_','_','_','*'],\n",
    "    [[17,0],'_','_','*','*']\n",
    "]\n",
    "\n",
    "solved_kakuro = [\n",
    "    ['*','*','*',[0,6],[0,17]],\n",
    "    ['*','*',[11,23], 3, 8],\n",
    "    ['*',[19,17], 8, 2, 9],\n",
    "    [[16,0], 9, 6, 1,'*'],\n",
    "    [[17,0], 8, 9,'*','*']\n",
    "]"
   ]
  },
  {
   "cell_type": "code",
   "execution_count": 12,
   "id": "9ca66e5c",
   "metadata": {},
   "outputs": [],
   "source": [
    "# III KAKURO 5x5\n",
    "blank_kakuro = [\n",
    "    ['*','*','*',[0,7],[0,24]],\n",
    "    ['*',[0,24],[12,6],'_','_'],\n",
    "    [[21,0],'_','_','_','_'],\n",
    "    [[16,0],'_','_','_','_'],\n",
    "    [[8,0],'_','_','*','*']\n",
    "]\n",
    "\n",
    "solved_kakuro = [\n",
    "    ['*','*','*',[0,7],[0,24]],\n",
    "    ['*',[0,24],[12,6], 4, 8],\n",
    "    [[21,0], 9, 3, 2, 7],\n",
    "    [[16,0], 8, 2, 1, 9],\n",
    "    [[8,0], 7, 1,'*','*']\n",
    "]"
   ]
  },
  {
   "cell_type": "code",
   "execution_count": 20,
   "id": "a2ba1be5",
   "metadata": {},
   "outputs": [],
   "source": [
    "# I KAKURO 9x8\n",
    "\n",
    "blank_kakuro = [\n",
    "    ['*','*','*',[0,24],[0,10],'*','*','*'],\n",
    "    ['*','*',[12,30],'_','_',[0,16],[0,21],'*'],\n",
    "    ['*',[26,0],'_','_','_','_','_','*'],\n",
    "    ['*',[17,13],'_','_',[8,0],'_','_',[0,3]],\n",
    "    [[11,0],'_','_','*','*',[0,7],'_','_'],\n",
    "    [[14,0],'_','_',[0,12],'*',[5,11],'_','_'],\n",
    "    ['*',[7,0],'_','_',[13,17],'_','_','*'],\n",
    "    ['*',[25,0],'_','_','_','_','_','*'],\n",
    "    ['*','*','*',[12,0],'_','_','*','*']\n",
    "]\n",
    "\n",
    "solved_kakuro = [\n",
    "    ['*','*','*',[0,24],[0,10],'*','*','*'],\n",
    "    ['*','*',[12,30], 8, 4,[0,16],[0,21],'*'],\n",
    "    ['*',[26,0], 1, 7, 6, 9, 3,'*'],\n",
    "    ['*',[17,13], 8, 9,[8,0], 7, 1,[0,3]],\n",
    "    [[11,0], 8, 3,'*','*',[0,7], 5, 2],\n",
    "    [[14,0], 5, 9,[0,12],'*',[5,11], 4, 1],\n",
    "    ['*',[7,0], 4, 3,[13,17], 7, 6,'*'],\n",
    "    ['*',[25,0], 5, 9, 8, 1, 2,'*'],\n",
    "    ['*','*','*',[12,0], 9, 3,'*','*']\n",
    "]"
   ]
  },
  {
   "cell_type": "code",
   "execution_count": 23,
   "id": "3de98dae",
   "metadata": {},
   "outputs": [],
   "source": [
    "#II KAKURO 9X8\n",
    "\n",
    "blank_kakuro = [\n",
    "    ['*','*','*',[0,11],[0,12],'*','*','*'],\n",
    "    ['*','*',[6,21],'_','_',[0,24],[0,3],[0,11]],\n",
    "    ['*',[36,11],'_','_','_','_','_','_'],\n",
    "    [[14,0],'_','_','*',[16,5],'_','_','_'],\n",
    "    [[13,0],'_','_',[11,17],'_','_',[0,20],[0,11]],\n",
    "    ['*',[0,12],[7,11],'_','_',[16,0],'_','_'],\n",
    "    [[22,0],'_','_','_',[0,6],[12,13],'_','_'],\n",
    "    [[26,0],'_','_','_','_','_','_','*'],\n",
    "    ['*','*','*',[9,0],'_','_','*','*']\n",
    "]\n",
    "    \n",
    "solved_kakuro = [\n",
    "    ['*','*','*',[0,11],[0,12],'*','*','*'],\n",
    "    ['*','*',[6,21], 2, 4,[0,24],[0,3],[0,11]],\n",
    "    ['*',[36,11], 5, 9, 8, 7, 1, 6],\n",
    "    [[14,0], 5, 9,'*',[16,5], 9, 2, 5],\n",
    "    [[13,0], 6, 7,[11,17], 3, 8,[0,20],[0,11]],\n",
    "    ['*',[0,12],[7,11], 5, 2,[16,0], 9, 7],\n",
    "    [[22,0], 5, 9, 8,[0,6],[12,13], 8, 4],\n",
    "    [[26,0], 7, 2, 4, 1, 9, 3,'*'],\n",
    "    ['*','*','*',[9,0], 5, 4,'*','*']\n",
    "]"
   ]
  },
  {
   "cell_type": "code",
   "execution_count": 29,
   "id": "2a10c582",
   "metadata": {},
   "outputs": [],
   "source": [
    "# III KAKURO 9x8\n",
    "\n",
    "blank_kakuro = [\n",
    "    ['*','*','*',[0,14],[0,10],'*','*','*'],\n",
    "    ['*','*',[8,3],'_','_',[0,8],'*','*'],\n",
    "    ['*',[14,0],'_','_','_','_',[0,11],[0,7]],\n",
    "    ['*',[6,0],'_','_',[15,9],'_','_','_'],\n",
    "    ['*',[0,15],[10,5],'_','_',[21,4],'_','_'],\n",
    "    [[13,0],'_','_',[12,9],'_','_',[0,7],'*'],\n",
    "    [[12,0],'_','_','_',[7,7],'_','_','*'],\n",
    "    ['*','*',[21,0],'_','_','_','_','*'],\n",
    "    ['*','*','*',[4,0],'_','_','*','*']\n",
    "]\n",
    "\n",
    "solved_kakuro = [\n",
    "    ['*','*','*',[0,14],[0,10],'*','*','*'],\n",
    "    ['*','*',[8,3], 2, 6,[0,8],'*','*'],\n",
    "    ['*',[14,0], 2, 1, 4, 7,[0,11],[0,7]],\n",
    "    ['*',[6,0], 1, 5,[15,9], 1, 8, 6],\n",
    "    ['*',[0,15],[10,5], 6, 4,[4,21], 3, 1],\n",
    "    [[13,0], 9, 4,[12,9], 5, 7,[0,7],'*'],\n",
    "    [[12,0], 6, 1, 5,[7,7], 2, 5,'*'],\n",
    "    ['*','*',[21,0], 4, 6, 9, 2,'*'],\n",
    "    ['*','*','*',[4,0], 1, 3,'*','*']\n",
    "]"
   ]
  },
  {
   "cell_type": "code",
   "execution_count": 36,
   "id": "32ec20b6",
   "metadata": {},
   "outputs": [],
   "source": [
    "# I KAKURO 15x15\n",
    "blank_kakuro = [['*','*',[0,4],[0,17],'*','*','*','*',[0,4],[0,17],[0,30],'*','*','*','*'],\n",
    "                ['*',[11,0],'_','_',[0,11],[0,6],'*',[19,16],'_','_','_','*',[0,4],[0,3],[0,16]],\n",
    "                ['*', [15,0],'_','_','_','_',[25,17],'_','_','_','_',[11,4],'_','_','_'],\n",
    "                ['*','*','*',[21,30],'_','_','_','_',[0,6],[21,24],'_','_','_','_','_'],\n",
    "                ['*','*',[22,11],'_','_','_','_',[19,0],'_','_','_','_','*','*','*'],\n",
    "                ['*',[14,0],'_','_','_',[0,29],[0,16],[10,0],'_','_',[0,29],[0,6],'*','*','*'],\n",
    "                ['*',[8,4],'_','_',[15,7],'_','_',[17,0],'_','_','_','_','*',[0,10],[0,17]],\n",
    "                [[32,0],'_','_','_','_','_','_','*','*',[8,4],'_','_',[11,30],'_','_'],\n",
    "                [[6,0],'_','_',[7,0],'_','_',[0,24],[0,7],[31,0],'_','_','_','_','_','_'],\n",
    "                ['*','*','*',[22,0],'_','_','_','_',[12,0],'_','_',[11,10],'_','_','*'],\n",
    "                ['*','*','*','*',[0,3],[10,11],'_','_','*',[0,3],[13,24],'_','_','_','*'],\n",
    "                ['*',[0,3],[0,17],[15,16],'_','_','_','_',[19,17],'_','_','_','_','*','*'],\n",
    "                [[23,0],'_','_','_','_','_',[0,4],[20,16],'_','_','_','_',[0,16],[0,3],'*'],\n",
    "                [[18,0],'_','_','_',[20,0],'_','_','_','_',[18,0],'_','_','_','_','*'],\n",
    "                ['*','*','*','*',[11,0],'_','_','_','*','*','*',[11,0],'_','_','*']\n",
    "                \n",
    "]\n",
    "\n",
    "solved_kakuro = [['*','*',[0,4],[0,17],'*','*','*','*',[0,4],[0,17],[0,30],'*','*','*','*'],\n",
    "                ['*',[11,0], 3, 8,[0,11],[0,6],'*',[19,16], 3, 9, 7,'*',[0,4],[0,3],[0,16]],\n",
    "                ['*', [15,0], 1, 9, 3, 2,[25,17], 7, 1, 8, 9,[11,4], 3, 1, 7],\n",
    "                ['*','*','*',[21,30], 1, 3, 8, 9,[0,6],[21,24], 6, 3, 1, 2, 9],\n",
    "                ['*','*',[22,11], 7, 5, 1, 9,[19,0], 3, 7, 8, 1,'*','*','*'],\n",
    "                ['*',[14,0], 3, 9, 2,[0,29],[0,16],[10,0], 2, 8,[0,29],[0,6],'*','*','*'],\n",
    "                ['*',[8,4], 2, 6,[15,7], 8, 7,[17,0], 1, 9, 5, 2,'*',[0,10],[0,17]],\n",
    "                [[32,0], 3, 1, 8, 4, 7, 9,'*','*',[8,4], 7, 1,[11,30], 3, 8],\n",
    "                [[6,0], 1, 5,[7,0], 2, 5,[0,24],[0,7],[31,0], 1, 8, 3, 6, 4, 9],\n",
    "                ['*','*','*',[22,0], 1, 9, 8, 4,[12,0], 3, 9,[11,10], 9, 2,'*'],\n",
    "                ['*','*','*','*',[0,3],[10,11], 9, 1,'*',[0,3],[13,24], 4, 8, 1,'*'],\n",
    "                ['*',[0,3],[0,17],[15,16], 1, 5, 7,2,[19,17], 2, 9, 1, 7,'*','*'],\n",
    "                [[23,0], 1, 8, 9, 2, 3,[0,4],[20,16], 9, 1, 7, 3,[0,16],[0,3],'*'],\n",
    "                [[18,0], 2, 9, 7,[20,0], 2, 1, 9, 8,[18,0], 8, 2, 7, 1,'*'],\n",
    "                ['*','*','*','*',[11,0], 1, 3, 7,'*','*','*',[11,0], 9, 2,'*']\n",
    "                \n",
    "]\n"
   ]
  },
  {
   "cell_type": "code",
   "execution_count": 41,
   "id": "379e757e",
   "metadata": {},
   "outputs": [],
   "source": [
    "# II KAKURO 15x15\n",
    "\n",
    "blank_kakuro = [['*',[0,3],[0,4],[0,17],'*',[0,23],[0,11],'*','*',[0,7],[0,17],[0,10],'*','*','*'],\n",
    "                [[13,0],'_','_','_',[13,16],'_','_','*',[14,17],'_','_','_','*',[0,4],[0,17]],\n",
    "                [[29,0], '_','_','_','_','_','_',[20,4],'_','_','_','_',[12,17],'_','_'],\n",
    "                ['*',[0,3],[0,16],[32,17],'_','_','_','_','_','_',[22,17],'_','_','_','_'],\n",
    "                [[18,0],'_','_','_',[0,16],[3,0],'_','_','*',[18,10],'_','_','_','*','*'],\n",
    "                [[25,0],'_','_','_','_',[0,3],'*','*',[12,23],'_','_','*','*','*','*'],\n",
    "                ['*','*','*',[11,0],'_','_',[0,29],[8,7],'_','_','*','*','*','*','*'],\n",
    "                ['*','*','*','*',[23,0],'_','_','_','_','_',[0,17],'*','*','*','*'],\n",
    "                ['*','*','*','*','*',[27,0],'_','_','_','_','_',[0,4],'*','*','*'],\n",
    "                ['*','*','*','*','*',[8,3],'_','_','*',[10,0],'_','_',[0,3],[0,4],[0,17]],\n",
    "                ['*','*','*',[0,17],[10,10],'_','_','*',[0,17],[0,28],[15,0],'_','_','_','_'],\n",
    "                ['*',[0,16],[12,3],'_','_','_',[0,24],[17,3],'_','_',[0,6],[12,3],'_','_','_'],\n",
    "                [[21,0],'_','_','_','_',[28,4],'_','_','_','_','_','_',[0,16],[0,4],[0,17]],\n",
    "                [[11,0],'_','_',[15,0],'_','_','_','_',[30,0],'_','_','_','_','_','_'],\n",
    "                ['*','*','*',[10,0],'_','_','_','*',[7,0],'_','_',[18,0],'_','_','_']\n",
    "                \n",
    "]\n",
    "\n",
    "solved_kakuro = [['*',[0,3],[0,4],[0,17],'*',[0,23],[0,11],'*','*',[0,7],[0,17],[0,10],'*','*','*'],\n",
    "                [[13,0], 1, 3, 9,[13,16], 8, 5,'*',[14,17], 2, 9, 3,'*',[0,4],[0,17]],\n",
    "                [[29,0], 2, 1, 8, 9, 6, 3,[20,4], 9, 1, 8, 2,[12,17], 3, 9],\n",
    "                ['*',[0,3],[0,16],[32,17], 7, 9, 1, 3, 8, 4,[22,17], 4, 9, 1, 8],\n",
    "                [[18,0], 2, 7, 9,[0,16],[3,0], 2, 1,'*',[18,10], 9, 1, 8,'*','*'],\n",
    "                [[25,0], 1, 9, 8, 7,[0,3],'*','*',[12,23], 4, 8,'*','*','*','*'],\n",
    "                ['*','*','*',[11,0], 9, 2,[0,29],[8,7], 6, 2,'*','*','*','*','*'],\n",
    "                ['*','*','*','*',[23,0], 1, 9, 2, 8, 3,[0,17],'*','*','*','*'],\n",
    "                ['*','*','*','*','*',[27,0], 5, 4, 9, 1, 8,[0,4],'*','*','*'],\n",
    "                ['*','*','*','*','*',[8,3], 7, 1,'*',[10,0], 9, 1,[0,3],[0,4],[0,17]],\n",
    "                ['*','*','*',[0,17],[10,10], 2, 8,'*',[0,17],[0,28],[15,0], 3, 2, 1, 9],\n",
    "                ['*',[0,16],[12,3], 8, 3, 1,[0,24],[17,3], 8, 9,[0,6],[12,3],1, 3, 8],\n",
    "                [[21,0], 7, 1, 9, 4,[28,4], 8, 1, 9, 5, 3, 2,[0,16],[0,4],[0,17]],\n",
    "                [[11,0], 9, 2,[15,0], 1, 3, 9, 2,[30,0], 8, 2, 1, 7, 3, 9],\n",
    "                ['*','*','*',[10,0], 2, 1, 7,'*',[7,0], 6, 1,[18,0], 9, 1, 8]\n",
    "                \n",
    "]\n"
   ]
  },
  {
   "cell_type": "code",
   "execution_count": 49,
   "id": "1e34bb15",
   "metadata": {},
   "outputs": [],
   "source": [
    "# III KAKURO 15x15\n",
    "\n",
    "blank_kakuro = [['*','*',[0,16],[0,10],'*',[0,17],[0,4],[0,34],'*','*','*','*','*','*','*'],\n",
    "                ['*',[10,0],'_','_',[19,4],'_','_','_','*','*','*','*','*','*','*'],\n",
    "                ['*',[29,0],'_','_','_','_','_','_',[0,10],'*','*','*','*',[0,4],[0,3]],\n",
    "                ['*','*',[5,15],'_','_','*',[10,17],'_','_','*','*','*',[3,11],'_','_'],\n",
    "                ['*',[5,23],'_','_','*',[21,30],'_','_','_','*','*',[9,17],'_','_','_'],\n",
    "                [[11,0],'_','_','*',[23,4],'_','_','_','_',[0,17],[11,0],'_','_','*','*'],\n",
    "                [[12,0],'_','_',[11,0],'_','_','*',[9,0],'_','_',[10,30],'_','_',[0,16],'*'],\n",
    "                [[10,0],'_','_',[10,10],'_','_',[0,17],'*',[17,0],'_','_',[8,4],'_','_',[0,23]],\n",
    "                ['*',[3,0],'_','_',[15,4],'_','_',[0,30],'*',[9,0],'_','_',[12,0],'_','_'],\n",
    "                ['*','*',[5,0],'_','_',[15,0],'_','_',[15,0],[8,4],'_','_',[9,0],'_','_'],\n",
    "                ['*',[0,16],[4,17],'_','_','*',[18,0],'_','_','_','_','*',[8,10],'_','_'],\n",
    "                [[20,0],'_','_','_','*','*',[15,0],'_','_','_','*',[6,17],'_','_','*'],\n",
    "                [[16,0],'_','_','*','*','*',[10,0],'_','_',[0,4],[10,16],'_','_',[0,17],'*'],\n",
    "                ['*','*','*','*','*','*','*',[32,0],'_','_','_','_','_','_','*'],\n",
    "                ['*','*','*','*','*','*','*',[17,0],'_','_','_',[0,11],'_','_','*']\n",
    "                \n",
    "]\n",
    "\n",
    "solved_kakuro = [['*','*',[0,16],[0,10],'*',[0,17],[0,4],[0,34],'*','*','*','*','*','*','*'],\n",
    "                ['*',[10,0], 7, 3,[19,4], 9, 3, 7,'*','*','*','*','*','*','*'],\n",
    "                ['*',[29,0], 9, 2, 3, 8, 1, 6,[0,10],'*','*','*','*',[0,4],[0,3]],\n",
    "                ['*','*',[5,15], 4, 1,'*',[10,17], 8, 2,'*','*','*',[3,11], 1, 2],\n",
    "                ['*',[5,23], 4, 1,'*',[21,30], 8, 9, 4,'*','*',[9,17], 5, 3, 1],\n",
    "                [[11,0], 6, 5,'*',[23,4], 7, 9, 4, 3,[0,17],[11,0], 8, 3,'*','*'],\n",
    "                [[12,0], 9, 3,[11,0], 3, 8,'*',[9,0], 1, 8,[10,30], 9, 1,[0,16],'*'],\n",
    "                [[10,0], 8, 2,[10,10], 1, 9,[0,17],'*',[17,0], 9, 8,[8,4], 2, 6,[0,23]],\n",
    "                ['*',[3,0], 1, 2,[15,4], 6, 9,[0,30],'*',[9,0], 6, 3,[12,0], 3, 9],\n",
    "                ['*','*',[5,0], 4, 1,[15,0], 8, 7,[15,0],[8,4], 7, 1,[9,0], 1, 8],\n",
    "                ['*',[0,16],[4,17], 1, 3,'*',[18,0], 6, 2, 1, 9,'*',[8,10], 2, 6],\n",
    "                [[20,0], 9, 8, 3,'*','*',[15,0], 8, 4, 3,'*',[6,17], 2, 4,'*'],\n",
    "                [[16,0], 7, 9,'*','*','*',[10,0], 9, 1,[0,4],[10,16], 9, 1,[0,17],'*'],\n",
    "                ['*','*','*','*','*','*','*',[32,0], 3, 1, 7, 8, 4, 9,'*'],\n",
    "                ['*','*','*','*','*','*','*',[17,0], 5, 3, 9,[0,11], 3, 8,'*']\n",
    "]\n"
   ]
  },
  {
   "cell_type": "code",
   "execution_count": 3,
   "id": "1705112a",
   "metadata": {},
   "outputs": [],
   "source": [
    "def print_kakuro(kakuro): #by wyswietlic kakuro\n",
    "  for i in kakuro:\n",
    "    print(i)"
   ]
  },
  {
   "cell_type": "code",
   "execution_count": 4,
   "id": "32a4cb9d",
   "metadata": {},
   "outputs": [],
   "source": [
    "def check_right(row,column,kakuro):\n",
    "    try:\n",
    "        if isinstance(kakuro[row][column + 1], int):\n",
    "            return True\n",
    "    except:\n",
    "        return False\n",
    "    \n",
    "def check_down(row,column,kakuro):\n",
    "    try:\n",
    "        if isinstance(kakuro[row + 1][column], int):\n",
    "            return True\n",
    "    except:\n",
    "        return False    \n",
    "    \n",
    "\n",
    "def c_duplicates_hor(kakuro): #sprawdzamy, czy dana wartosc sie powtarza w poziomie oraz zliczamy powtórzenia\n",
    "    counter = 0\n",
    "    for row in range(len(kakuro)):\n",
    "        l = []\n",
    "        for column in range(len(kakuro[0])):\n",
    "            if isinstance(kakuro[row][column], int):\n",
    "                l.append(kakuro[row][column])\n",
    "                if check_right(row, column, kakuro):\n",
    "                    continue\n",
    "                else:\n",
    "                    z = sum([value - 1 for key, value in collections.Counter(l).items() if value > 1] )\n",
    "                    counter += z\n",
    "                    l = []\n",
    "    return counter                \n",
    "\n",
    "\n",
    "def c_duplicates_vert(kakuro): #sprawdzamy, czy dana wartosc sie powtarza w poziomie oraz zliczamy powtórzenia\n",
    "    counter = 0\n",
    "    for column in range(len(kakuro[0])):\n",
    "        l = []\n",
    "        for row in range(len(kakuro)):\n",
    "            if isinstance(kakuro[row][column], int):\n",
    "                l.append(kakuro[row][column])\n",
    "                if check_down(row, column, kakuro):\n",
    "                    continue\n",
    "                else:\n",
    "                    z = sum([value - 1 for key, value in collections.Counter(l).items() if value > 1] )\n",
    "                    counter += z\n",
    "                    l = []\n",
    "    return counter   \n",
    "\n",
    "\n",
    "def c_sum_hor(kakuro): #zliczenie różnic pomiędzy wartością z pola (clue) a sumą wpisanych liczb - poziomo (wartosc bezwzgledna) \n",
    "    counter = 0\n",
    "    for row in range(len(kakuro)):\n",
    "        l = []\n",
    "        suma = 0\n",
    "        for column in range(len(kakuro[0])):\n",
    "            if isinstance(kakuro[row][column], list):\n",
    "                suma = kakuro[row][column][0]\n",
    "                continue\n",
    "            if isinstance(kakuro[row][column], int):   \n",
    "                l.append(kakuro[row][column])\n",
    "                if check_right(row, column, kakuro):\n",
    "                    continue\n",
    "                else:\n",
    "                    counter += abs(sum(l)-suma)\n",
    "                    l = []\n",
    "    return counter    \n",
    "\n",
    "\n",
    "def c_sum_vert(kakuro): #zliczenie różnic pomiędzy wartością z pola (clue) a sumą wpisanych liczb - pionowo (wartosc bezwzgledna) \n",
    "    counter = 0\n",
    "    for column in range(len(kakuro[0])):\n",
    "        l = []\n",
    "        suma = 0\n",
    "        for row in range(len(kakuro)):\n",
    "            if isinstance(kakuro[row][column], list):\n",
    "                suma = kakuro[row][column][1]\n",
    "                continue\n",
    "            if isinstance(kakuro[row][column], int):   \n",
    "                l.append(kakuro[row][column])\n",
    "                if check_down(row, column, kakuro):\n",
    "                    continue\n",
    "                else:\n",
    "                    counter += abs(sum(l) - suma)\n",
    "                    l = []\n",
    "    return counter \n"
   ]
  },
  {
   "cell_type": "code",
   "execution_count": 5,
   "id": "51465c5c",
   "metadata": {},
   "outputs": [],
   "source": [
    "def fill_in(array): #wypełnianie pustych pól w kakuro\n",
    "    copy_kakuro = copy.deepcopy(blank_kakuro)\n",
    "    k = 0\n",
    "    for row in range(len(copy_kakuro)):\n",
    "        for column in range(len(copy_kakuro[0])):\n",
    "            if copy_kakuro[row][column] == '_':\n",
    "                copy_kakuro[row][column] = int(array[k])\n",
    "                k += 1\n",
    "    return copy_kakuro\n",
    "    "
   ]
  },
  {
   "cell_type": "code",
   "execution_count": 6,
   "id": "7648c207",
   "metadata": {},
   "outputs": [],
   "source": [
    "gene_space = [1, 2, 3, 4, 5, 6, 7, 8, 9] #wszystkie mozliwe cyfry, jakie mozna wpisac w puste pola kakuro\n",
    "\n",
    "def fitness_func(solution, solution_idx): #fitness - suma zliczonych powtorzen pionow/poziomo i roznic pomiędzy clue a wpisanymi w puste pola cyframi\n",
    "    copy_kakuro = fill_in(solution)\n",
    "    fitness = -(c_duplicates_hor(copy_kakuro) + c_duplicates_vert(copy_kakuro) + c_sum_vert(copy_kakuro) + c_sum_hor(copy_kakuro))\n",
    "    return fitness\n",
    "\n",
    "fitness_function = fitness_func"
   ]
  },
  {
   "cell_type": "code",
   "execution_count": 7,
   "id": "74eb1414",
   "metadata": {},
   "outputs": [],
   "source": [
    "def counted(kakuro): #zliczenie pustych pól \n",
    "    counter = 0\n",
    "    for row in range(len(kakuro)):\n",
    "        for column in range(len(kakuro[0])): \n",
    "            if blank_kakuro[row][column]=='_':\n",
    "                counter += 1\n",
    "    return counter \n"
   ]
  },
  {
   "cell_type": "code",
   "execution_count": 34,
   "id": "685e8ff5",
   "metadata": {},
   "outputs": [],
   "source": [
    "#Wybrane parametry\n",
    "sol_per_pop = 100\n",
    "num_genes = counted(blank_kakuro) #liczba pustych pól w danym kakuro\n",
    "num_parents_mating = 50 #(ok. 50%)\n",
    "num_generations = 300\n",
    "keep_parents = 4 #mały %\n",
    "parent_selection_type = \"tournament\"\n",
    "crossover_type = \"single_point\"\n",
    "mutation_type = 'random'\n",
    "mutation_percent_genes = 0.1\n",
    "\n",
    "start_time = time.time() #mierzenie czasu\n",
    "\n",
    "ga_instance = pygad.GA(gene_space=gene_space,\n",
    "                    num_generations=num_generations,\n",
    "                    num_parents_mating=num_parents_mating,\n",
    "                    fitness_func=fitness_function,\n",
    "                    sol_per_pop=sol_per_pop,\n",
    "                    num_genes=num_genes,\n",
    "                    parent_selection_type=parent_selection_type,\n",
    "                    keep_parents=keep_parents,\n",
    "                    crossover_type=crossover_type,\n",
    "                    mutation_type=mutation_type,\n",
    "                    mutation_percent_genes=mutation_percent_genes\n",
    "            \n",
    "                    )\n",
    "\n",
    "ga_instance.run()\n",
    "end_time = time.time()\n",
    "time_e = end_time - start_time"
   ]
  },
  {
   "cell_type": "markdown",
   "id": "51a93fbe",
   "metadata": {},
   "source": [
    "Niektóre kakuro mają więcej niż jedno poprawne rozwiązanie, dlatego niektóre znalezione rozwiązania mogą się róznić od poprawnego mimo fitness = 0."
   ]
  },
  {
   "cell_type": "code",
   "execution_count": 13,
   "id": "08cd15c9",
   "metadata": {},
   "outputs": [
    {
     "name": "stdout",
     "output_type": "stream",
     "text": [
      "Parameters of the best solution: [8. 3. 9. 1. 7. 2. 8. 1. 9. 2.]\n",
      "Fitness value of the best solution = 0\n",
      "Time elapsed: 3.5108931064605713\n",
      "\n",
      "Found solution:\n",
      "['*', [0, 17], [0, 6], '*', '*']\n",
      "[[11, 0], 8, 3, [0, 24], '*']\n",
      "[[17, 0], 9, 1, 7, [0, 3]]\n",
      "['*', [11, 0], 2, 8, 1]\n",
      "['*', '*', [11, 0], 9, 2]\n",
      "Correct solution:\n",
      "['*', [0, 17], [0, 6], '*', '*']\n",
      "[[11, 0], 8, 3, [0, 24], '*']\n",
      "[[17, 0], 9, 1, 7, [0, 3]]\n",
      "['*', [11, 0], 2, 8, 1]\n",
      "['*', '*', [11, 0], 9, 2]\n"
     ]
    },
    {
     "data": {
      "image/png": "[encoded data removed]",
      "text/plain": [
       "<Figure size 432x288 with 1 Axes>"
      ]
     },
     "metadata": {
      "needs_background": "light"
     },
     "output_type": "display_data"
    },
    {
     "data": {
      "image/png": "[encoded data removed]",
      "text/plain": [
       "<Figure size 432x288 with 1 Axes>"
      ]
     },
     "execution_count": 13,
     "metadata": {},
     "output_type": "execute_result"
    }
   ],
   "source": [
    "#I KAKURO 5x5\n",
    "#podsumowanie: najlepsze znalezione rozwiazanie (chromosom+ocena)\n",
    "solution, solution_fitness, solution_idx = ga_instance.best_solution()\n",
    "print(\"Parameters of the best solution: {solution}\".format(solution=solution))\n",
    "print(\"Fitness value of the best solution = {solution_fitness}\".format(solution_fitness=solution_fitness))\n",
    "\n",
    "\n",
    "#czas\n",
    "print(\"Time elapsed: {time_e}\".format(time_e=time_e) + \"\\n\")\n",
    "\n",
    "print(\"Found solution:\")\n",
    "print_kakuro(fill_in(solution))\n",
    "\n",
    "print(\"Correct solution:\")\n",
    "print_kakuro(solved_kakuro)\n",
    "\n",
    "#wyswietlenie wykresu: jak zmieniala sie ocena na przestrzeni pokolen\n",
    "ga_instance.plot_fitness()"
   ]
  },
  {
   "cell_type": "code",
   "execution_count": 11,
   "id": "eec6a4f6",
   "metadata": {},
   "outputs": [
    {
     "name": "stdout",
     "output_type": "stream",
     "text": [
      "Parameters of the best solution: [3. 8. 9. 1. 9. 8. 6. 2. 9. 8.]\n",
      "Fitness value of the best solution = -1\n",
      "Time elapsed: 3.369253396987915\n",
      "\n",
      "Found solution:\n",
      "['*', '*', '*', [0, 6], [0, 17]]\n",
      "['*', '*', [11, 23], 3, 8]\n",
      "['*', [19, 17], 9, 1, 9]\n",
      "[[16, 0], 8, 6, 2, '*']\n",
      "[[17, 0], 9, 8, '*', '*']\n",
      "Correct solution:\n",
      "['*', '*', '*', [0, 6], [0, 17]]\n",
      "['*', '*', [11, 23], 3, 8]\n",
      "['*', [19, 17], 8, 2, 9]\n",
      "[[16, 0], 9, 6, 1, '*']\n",
      "[[17, 0], 8, 9, '*', '*']\n"
     ]
    },
    {
     "data": {
      "image/png": "[encoded data removed]",
      "text/plain": [
       "<Figure size 432x288 with 1 Axes>"
      ]
     },
     "metadata": {
      "needs_background": "light"
     },
     "output_type": "display_data"
    },
    {
     "data": {
      "image/png": "[encoded data removed]",
      "text/plain": [
       "<Figure size 432x288 with 1 Axes>"
      ]
     },
     "execution_count": 11,
     "metadata": {},
     "output_type": "execute_result"
    }
   ],
   "source": [
    "#II KAKURO 5x5\n",
    "#podsumowanie: najlepsze znalezione rozwiazanie (chromosom+ocena)\n",
    "solution, solution_fitness, solution_idx = ga_instance.best_solution()\n",
    "print(\"Parameters of the best solution: {solution}\".format(solution=solution))\n",
    "print(\"Fitness value of the best solution = {solution_fitness}\".format(solution_fitness=solution_fitness))\n",
    "\n",
    "\n",
    "#czas\n",
    "print(\"Time elapsed: {time_e}\".format(time_e=time_e) + \"\\n\")\n",
    "\n",
    "print(\"Found solution:\")\n",
    "print_kakuro(fill_in(solution))\n",
    "\n",
    "print(\"Correct solution:\")\n",
    "print_kakuro(solved_kakuro)\n",
    "\n",
    "#wyswietlenie wykresu: jak zmieniala sie ocena na przestrzeni pokolen\n",
    "ga_instance.plot_fitness()"
   ]
  },
  {
   "cell_type": "code",
   "execution_count": 18,
   "id": "b068a063",
   "metadata": {},
   "outputs": [
    {
     "name": "stdout",
     "output_type": "stream",
     "text": [
      "Parameters of the best solution: [3. 9. 9. 3. 1. 8. 8. 1. 2. 5. 6. 2.]\n",
      "Fitness value of the best solution = -4\n",
      "Time elapsed: 3.532010793685913\n",
      "\n",
      "Found solution:\n",
      "['*', '*', '*', [0, 7], [0, 24]]\n",
      "['*', [0, 24], [12, 6], 3, 9]\n",
      "[[21, 0], 9, 3, 1, 8]\n",
      "[[16, 0], 8, 1, 2, 5]\n",
      "[[8, 0], 6, 2, '*', '*']\n",
      "Correct solution:\n",
      "['*', '*', '*', [0, 7], [0, 24]]\n",
      "['*', [0, 24], [12, 6], 4, 8]\n",
      "[[21, 0], 9, 3, 2, 7]\n",
      "[[16, 0], 8, 2, 1, 9]\n",
      "[[8, 0], 7, 1, '*', '*']\n"
     ]
    },
    {
     "data": {
      "image/png": "[encoded data removed]",
      "text/plain": [
       "<Figure size 432x288 with 1 Axes>"
      ]
     },
     "metadata": {
      "needs_background": "light"
     },
     "output_type": "display_data"
    },
    {
     "data": {
      "image/png": "[encoded data removed]",
      "text/plain": [
       "<Figure size 432x288 with 1 Axes>"
      ]
     },
     "execution_count": 18,
     "metadata": {},
     "output_type": "execute_result"
    }
   ],
   "source": [
    "#III KAKURO 5x5\n",
    "#podsumowanie: najlepsze znalezione rozwiazanie (chromosom+ocena)\n",
    "solution, solution_fitness, solution_idx = ga_instance.best_solution()\n",
    "print(\"Parameters of the best solution: {solution}\".format(solution=solution))\n",
    "print(\"Fitness value of the best solution = {solution_fitness}\".format(solution_fitness=solution_fitness))\n",
    "\n",
    "\n",
    "#czas\n",
    "print(\"Time elapsed: {time_e}\".format(time_e=time_e) + \"\\n\")\n",
    "\n",
    "print(\"Found solution:\")\n",
    "print_kakuro(fill_in(solution))\n",
    "\n",
    "print(\"Correct solution:\")\n",
    "print_kakuro(solved_kakuro)\n",
    "\n",
    "#wyswietlenie wykresu: jak zmieniala sie ocena na przestrzeni pokolen\n",
    "ga_instance.plot_fitness()"
   ]
  },
  {
   "cell_type": "code",
   "execution_count": 22,
   "id": "1d6da727",
   "metadata": {},
   "outputs": [
    {
     "name": "stdout",
     "output_type": "stream",
     "text": [
      "Parameters of the best solution: [9. 3. 3. 6. 7. 9. 1. 8. 9. 7. 2. 5. 6. 1. 2. 8. 7. 4. 1. 2. 5. 5. 8. 4.\n",
      " 7. 9. 2. 3. 8. 4.]\n",
      "Fitness value of the best solution= -9\n",
      "Time elapsed: 7.290922403335571\n",
      "\n",
      "Found solution:\n",
      "['*', '*', '*', [0, 24], [0, 10], '*', '*', '*']\n",
      "['*', '*', [12, 30], 9, 3, [0, 16], [0, 21], '*']\n",
      "['*', [26, 0], 3, 6, 7, 9, 1, '*']\n",
      "['*', [17, 13], 8, 9, [8, 0], 7, 2, [0, 3]]\n",
      "[[11, 0], 5, 6, '*', '*', [0, 7], 1, 2]\n",
      "[[14, 0], 8, 7, [0, 12], '*', [5, 11], 4, 1]\n",
      "['*', [7, 0], 2, 5, [13, 17], 5, 8, '*']\n",
      "['*', [25, 0], 4, 7, 9, 2, 3, '*']\n",
      "['*', '*', '*', [12, 0], 8, 4, '*', '*']\n",
      "Correct solution:\n",
      "['*', '*', '*', [0, 24], [0, 10], '*', '*', '*']\n",
      "['*', '*', [12, 30], 8, 4, [0, 16], [0, 21], '*']\n",
      "['*', [26, 0], 1, 7, 6, 9, 3, '*']\n",
      "['*', [17, 13], 8, 9, [8, 0], 7, 1, [0, 3]]\n",
      "[[11, 0], 8, 3, '*', '*', [0, 7], 5, 2]\n",
      "[[14, 0], 5, 9, [0, 12], '*', [5, 11], 4, 1]\n",
      "['*', [7, 0], 4, 3, [13, 17], 7, 6, '*']\n",
      "['*', [25, 0], 5, 9, 8, 1, 2, '*']\n",
      "['*', '*', '*', [12, 0], 9, 3, '*', '*']\n"
     ]
    },
    {
     "data": {
      "image/png": "[encoded data removed]",
      "text/plain": [
       "<Figure size 432x288 with 1 Axes>"
      ]
     },
     "metadata": {
      "needs_background": "light"
     },
     "output_type": "display_data"
    },
    {
     "data": {
      "image/png": "[encoded data removed]",
      "text/plain": [
       "<Figure size 432x288 with 1 Axes>"
      ]
     },
     "execution_count": 22,
     "metadata": {},
     "output_type": "execute_result"
    }
   ],
   "source": [
    "#I KAKURO 9X8\n",
    "#podsumowanie: najlepsze znalezione rozwiazanie (chromosom+ocena)\n",
    "solution, solution_fitness, solution_idx = ga_instance.best_solution()\n",
    "print(\"Parameters of the best solution: {solution}\".format(solution=solution))\n",
    "print(\"Fitness value of the best solution= {solution_fitness}\".format(solution_fitness=solution_fitness))\n",
    "\n",
    "\n",
    "#czas\n",
    "print(\"Time elapsed: {time_e}\".format(time_e=time_e) + \"\\n\")\n",
    "\n",
    "print(\"Found solution:\")\n",
    "print_kakuro(fill_in(solution))\n",
    "\n",
    "print(\"Correct solution:\")\n",
    "print_kakuro(solved_kakuro)\n",
    "\n",
    "#wyswietlenie wykresu: jak zmieniala sie ocena na przestrzeni pokolen\n",
    "ga_instance.plot_fitness()"
   ]
  },
  {
   "cell_type": "code",
   "execution_count": 25,
   "id": "760c71ed",
   "metadata": {},
   "outputs": [
    {
     "name": "stdout",
     "output_type": "stream",
     "text": [
      "Parameters of the best solution: [2. 4. 5. 9. 8. 7. 1. 6. 5. 9. 9. 2. 5. 6. 7. 3. 8. 4. 2. 8. 8. 9. 8. 5.\n",
      " 9. 3. 3. 2. 8. 4. 6. 3. 2. 7.]\n",
      "Fitness value of the best solution = -4\n",
      "Time elapsed: 7.924941539764404\n",
      "\n",
      "Found solution:\n",
      "['*', '*', '*', [0, 11], [0, 12], '*', '*', '*']\n",
      "['*', '*', [6, 21], 2, 4, [0, 24], [0, 3], [0, 11]]\n",
      "['*', [36, 11], 5, 9, 8, 7, 1, 6]\n",
      "[[14, 0], 5, 9, '*', [16, 5], 9, 2, 5]\n",
      "[[13, 0], 6, 7, [11, 17], 3, 8, [0, 20], [0, 11]]\n",
      "['*', [0, 12], [7, 11], 4, 2, [16, 0], 8, 8]\n",
      "[[22, 0], 9, 8, 5, [0, 6], [12, 13], 9, 3]\n",
      "[[26, 0], 3, 2, 8, 4, 6, 3, '*']\n",
      "['*', '*', '*', [9, 0], 2, 7, '*', '*']\n",
      "Correct solution:\n",
      "['*', '*', '*', [0, 11], [0, 12], '*', '*', '*']\n",
      "['*', '*', [6, 21], 2, 4, [0, 24], [0, 3], [0, 11]]\n",
      "['*', [36, 11], 5, 9, 8, 7, 1, 6]\n",
      "[[14, 0], 5, 9, '*', [16, 5], 9, 2, 5]\n",
      "[[13, 0], 6, 7, [11, 17], 3, 8, [0, 20], [0, 11]]\n",
      "['*', [0, 12], [7, 11], 5, 2, [16, 0], 9, 7]\n",
      "[[22, 0], 5, 9, 8, [0, 6], [12, 13], 8, 4]\n",
      "[[26, 0], 7, 2, 4, 1, 9, 3, '*']\n",
      "['*', '*', '*', [9, 0], 5, 4, '*', '*']\n"
     ]
    },
    {
     "data": {
      "image/png": "[encoded data removed]",
      "text/plain": [
       "<Figure size 432x288 with 1 Axes>"
      ]
     },
     "metadata": {
      "needs_background": "light"
     },
     "output_type": "display_data"
    },
    {
     "data": {
      "image/png": "[encoded data removed]",
      "text/plain": [
       "<Figure size 432x288 with 1 Axes>"
      ]
     },
     "execution_count": 25,
     "metadata": {},
     "output_type": "execute_result"
    }
   ],
   "source": [
    "#II KAKURO 9X8\n",
    "#podsumowanie: najlepsze znalezione rozwiazanie (chromosom+ocena)\n",
    "solution, solution_fitness, solution_idx = ga_instance.best_solution()\n",
    "print(\"Parameters of the best solution: {solution}\".format(solution=solution))\n",
    "print(\"Fitness value of the best solution = {solution_fitness}\".format(solution_fitness=solution_fitness))\n",
    "\n",
    "\n",
    "#czas\n",
    "print(\"Time elapsed: {time_e}\".format(time_e=time_e) + \"\\n\")\n",
    "\n",
    "print(\"Found solution:\")\n",
    "print_kakuro(fill_in(solution))\n",
    "\n",
    "print(\"Correct solution:\")\n",
    "print_kakuro(solved_kakuro)\n",
    "\n",
    "#wyswietlenie wykresu: jak zmieniala sie ocena na przestrzeni pokolen\n",
    "ga_instance.plot_fitness()"
   ]
  },
  {
   "cell_type": "code",
   "execution_count": 35,
   "id": "b9b50635",
   "metadata": {},
   "outputs": [
    {
     "name": "stdout",
     "output_type": "stream",
     "text": [
      "Parameters of the best solution: [1. 7. 1. 7. 3. 2. 2. 4. 7. 5. 2. 2. 6. 9. 8. 9. 4. 7. 2. 6. 1. 5. 5. 2.\n",
      " 4. 5. 3. 9. 3. 1.]\n",
      "Fitness value of the best solution = -34\n",
      "Time elapsed: 7.5247414112091064\n",
      "\n",
      "Found solution:\n",
      "['*', '*', '*', [0, 14], [0, 10], '*', '*', '*']\n",
      "['*', '*', [8, 3], 1, 7, [0, 8], '*', '*']\n",
      "['*', [14, 0], 1, 7, 3, 2, [0, 11], [0, 7]]\n",
      "['*', [6, 0], 2, 4, [15, 9], 7, 5, 2]\n",
      "['*', [0, 15], [10, 5], 2, 6, [21, 4], 9, 8]\n",
      "[[13, 0], 9, 4, [12, 9], 7, 2, [0, 7], '*']\n",
      "[[12, 0], 6, 1, 5, [7, 7], 5, 2, '*']\n",
      "['*', '*', [21, 0], 4, 5, 3, 9, '*']\n",
      "['*', '*', '*', [4, 0], 3, 1, '*', '*']\n",
      "Correct solution:\n",
      "['*', '*', '*', [0, 14], [0, 10], '*', '*', '*']\n",
      "['*', '*', [8, 3], 2, 6, [0, 8], '*', '*']\n",
      "['*', [14, 0], 2, 1, 4, 7, [0, 11], [0, 7]]\n",
      "['*', [6, 0], 1, 5, [15, 9], 1, 8, 6]\n",
      "['*', [0, 15], [10, 5], 6, 4, [4, 21], 3, 1]\n",
      "[[13, 0], 9, 4, [12, 9], 5, 7, [0, 7], '*']\n",
      "[[12, 0], 6, 1, 5, [7, 7], 2, 5, '*']\n",
      "['*', '*', [21, 0], 4, 6, 9, 2, '*']\n",
      "['*', '*', '*', [4, 0], 1, 3, '*', '*']\n"
     ]
    },
    {
     "data": {
      "image/png": "[encoded data removed]",
      "text/plain": [
       "<Figure size 432x288 with 1 Axes>"
      ]
     },
     "metadata": {
      "needs_background": "light"
     },
     "output_type": "display_data"
    },
    {
     "data": {
      "image/png": "[encoded data removed]",
      "text/plain": [
       "<Figure size 432x288 with 1 Axes>"
      ]
     },
     "execution_count": 35,
     "metadata": {},
     "output_type": "execute_result"
    }
   ],
   "source": [
    "#III KAKURO 9x8\n",
    "#podsumowanie: najlepsze znalezione rozwiazanie (chromosom+ocena)\n",
    "solution, solution_fitness, solution_idx = ga_instance.best_solution()\n",
    "print(\"Parameters of the best solution: {solution}\".format(solution=solution))\n",
    "print(\"Fitness value of the best solution = {solution_fitness}\".format(solution_fitness=solution_fitness))\n",
    "\n",
    "#czas\n",
    "print(\"Time elapsed: {time_e}\".format(time_e=time_e) + \"\\n\")\n",
    "\n",
    "print(\"Found solution:\")\n",
    "print_kakuro(fill_in(solution))\n",
    "\n",
    "print(\"Correct solution:\")\n",
    "print_kakuro(solved_kakuro)\n",
    "\n",
    "#wyswietlenie wykresu: jak zmieniala sie ocena na przestrzeni pokolen\n",
    "ga_instance.plot_fitness()"
   ]
  },
  {
   "cell_type": "code",
   "execution_count": 50,
   "id": "f8af6e8d",
   "metadata": {},
   "outputs": [],
   "source": [
    "#Wybrane parametry\n",
    "sol_per_pop = 100\n",
    "num_genes = counted(blank_kakuro) #liczba pustych pól w danym kakuro\n",
    "num_parents_mating = 50 #(ok. 50%)\n",
    "num_generations = 700\n",
    "keep_parents = 4 #mały %\n",
    "parent_selection_type = \"tournament\"\n",
    "crossover_type = \"single_point\"\n",
    "mutation_type = 'random'\n",
    "mutation_percent_genes = 0.1\n",
    "\n",
    "start_time = time.time() #mierzenie czasu\n",
    "\n",
    "ga_instance = pygad.GA(gene_space=gene_space,\n",
    "                    num_generations=num_generations,\n",
    "                    num_parents_mating=num_parents_mating,\n",
    "                    fitness_func=fitness_function,\n",
    "                    sol_per_pop=sol_per_pop,\n",
    "                    num_genes=num_genes,\n",
    "                    parent_selection_type=parent_selection_type,\n",
    "                    keep_parents=keep_parents,\n",
    "                    crossover_type=crossover_type,\n",
    "                    mutation_type=mutation_type,\n",
    "                    mutation_percent_genes=mutation_percent_genes\n",
    "            \n",
    "                    )\n",
    "\n",
    "ga_instance.run()\n",
    "end_time = time.time()\n",
    "time_e = end_time - start_time"
   ]
  },
  {
   "cell_type": "code",
   "execution_count": 39,
   "id": "c4906dbf",
   "metadata": {},
   "outputs": [
    {
     "name": "stdout",
     "output_type": "stream",
     "text": [
      "Parameters of the best solution: [1. 9. 3. 8. 9. 3. 8. 1. 3. 9. 1. 7. 8. 3. 2. 7. 4. 2. 8. 7. 6. 3. 2. 1.\n",
      " 9. 8. 4. 1. 9. 1. 9. 7. 2. 5. 7. 2. 2. 8. 2. 6. 9. 6. 3. 7. 6. 1. 2. 1.\n",
      " 9. 4. 7. 9. 7. 1. 4. 7. 2. 4. 1. 5. 2. 8. 4. 7. 1. 9. 2. 8. 7. 4. 3. 9.\n",
      " 8. 3. 9. 1. 1. 9. 2. 2. 2. 8. 3. 2. 8. 4. 6. 2. 9. 7. 1. 5. 7. 1. 9. 3.\n",
      " 1. 8. 9. 1. 3. 8. 9. 7. 2. 8. 1. 3. 1. 7. 9. 2.]\n",
      "Fitness value of the best solution = -28\n",
      "Time elapsed: 48.71883702278137\n",
      "\n",
      "Found solution:\n",
      "['*', '*', [0, 4], [0, 17], '*', '*', '*', '*', [0, 4], [0, 17], [0, 30], '*', '*', '*', '*']\n",
      "['*', [11, 0], 1, 9, [0, 11], [0, 6], '*', [19, 16], 3, 8, 9, '*', [0, 4], [0, 3], [0, 16]]\n",
      "['*', [15, 0], 3, 8, 1, 3, [25, 17], 9, 1, 7, 8, [11, 4], 3, 2, 7]\n",
      "['*', '*', '*', [21, 30], 4, 2, 8, 7, [0, 6], [21, 24], 6, 3, 2, 1, 9]\n",
      "['*', '*', [22, 11], 8, 4, 1, 9, [19, 0], 1, 9, 7, 2, '*', '*', '*']\n",
      "['*', [14, 0], 5, 7, 2, [0, 29], [0, 16], [10, 0], 2, 8, [0, 29], [0, 6], '*', '*', '*']\n",
      "['*', [8, 4], 2, 6, [15, 7], 9, 6, [17, 0], 3, 7, 6, 1, '*', [0, 10], [0, 17]]\n",
      "[[32, 0], 2, 1, 9, 4, 7, 9, '*', '*', [8, 4], 7, 1, [11, 30], 4, 7]\n",
      "[[6, 0], 2, 4, [7, 0], 1, 5, [0, 24], [0, 7], [31, 0], 2, 8, 4, 7, 1, 9]\n",
      "['*', '*', '*', [22, 0], 2, 8, 7, 4, [12, 0], 3, 9, [11, 10], 8, 3, '*']\n",
      "['*', '*', '*', '*', [0, 3], [10, 11], 9, 1, '*', [0, 3], [13, 24], 1, 9, 2, '*']\n",
      "['*', [0, 3], [0, 17], [15, 16], 2, 2, 8, 3, [19, 17], 2, 8, 4, 6, '*', '*']\n",
      "[[23, 0], 2, 9, 7, 1, 5, [0, 4], [20, 16], 7, 1, 9, 3, [0, 16], [0, 3], '*']\n",
      "[[18, 0], 1, 8, 9, [20, 0], 1, 3, 8, 9, [18, 0], 7, 2, 8, 1, '*']\n",
      "['*', '*', '*', '*', [11, 0], 3, 1, 7, '*', '*', '*', [11, 0], 9, 2, '*']\n",
      "Correct solution:\n",
      "['*', '*', [0, 4], [0, 17], '*', '*', '*', '*', [0, 4], [0, 17], [0, 30], '*', '*', '*', '*']\n",
      "['*', [11, 0], 3, 8, [0, 11], [0, 6], '*', [19, 16], 3, 9, 7, '*', [0, 4], [0, 3], [0, 16]]\n",
      "['*', [15, 0], 1, 9, 3, 2, [25, 17], 7, 1, 8, 9, [11, 4], 3, 1, 7]\n",
      "['*', '*', '*', [21, 30], 1, 3, 8, 9, [0, 6], [21, 24], 6, 3, 1, 2, 9]\n",
      "['*', '*', [22, 11], 7, 5, 1, 9, [19, 0], 3, 7, 8, 1, '*', '*', '*']\n",
      "['*', [14, 0], 3, 9, 2, [0, 29], [0, 16], [10, 0], 2, 8, [0, 29], [0, 6], '*', '*', '*']\n",
      "['*', [8, 4], 2, 6, [15, 7], 8, 7, [17, 0], 1, 9, 5, 2, '*', [0, 10], [0, 17]]\n",
      "[[32, 0], 3, 1, 8, 4, 7, 9, '*', '*', [8, 4], 7, 1, [11, 30], 3, 8]\n",
      "[[6, 0], 1, 5, [7, 0], 2, 5, [0, 24], [0, 7], [31, 0], 1, 8, 3, 6, 4, 9]\n",
      "['*', '*', '*', [22, 0], 1, 9, 8, 4, [12, 0], 3, 9, [11, 10], 9, 2, '*']\n",
      "['*', '*', '*', '*', [0, 3], [10, 11], 9, 1, '*', [0, 3], [13, 24], 4, 8, 1, '*']\n",
      "['*', [0, 3], [0, 17], [15, 16], 1, 5, 7, 2, [19, 17], 2, 9, 1, 7, '*', '*']\n",
      "[[23, 0], 1, 8, 9, 2, 3, [0, 4], [20, 16], 9, 1, 7, 3, [0, 16], [0, 3], '*']\n",
      "[[18, 0], 2, 9, 7, [20, 0], 2, 1, 9, 8, [18, 0], 8, 2, 7, 1, '*']\n",
      "['*', '*', '*', '*', [11, 0], 1, 3, 7, '*', '*', '*', [11, 0], 9, 2, '*']\n"
     ]
    },
    {
     "data": {
      "image/png": "[encoded data removed]",
      "text/plain": [
       "<Figure size 432x288 with 1 Axes>"
      ]
     },
     "metadata": {
      "needs_background": "light"
     },
     "output_type": "display_data"
    },
    {
     "data": {
      "image/png": "[encoded data removed]",
      "text/plain": [
       "<Figure size 432x288 with 1 Axes>"
      ]
     },
     "execution_count": 39,
     "metadata": {},
     "output_type": "execute_result"
    }
   ],
   "source": [
    "#I KAKURO 15x15\n",
    "#podsumowanie: najlepsze znalezione rozwiazanie (chromosom+ocena)\n",
    "solution, solution_fitness, solution_idx = ga_instance.best_solution()\n",
    "print(\"Parameters of the best solution: {solution}\".format(solution=solution))\n",
    "print(\"Fitness value of the best solution = {solution_fitness}\".format(solution_fitness=solution_fitness))\n",
    "\n",
    "#czas\n",
    "print(\"Time elapsed: {time_e}\".format(time_e=time_e) + \"\\n\")\n",
    "\n",
    "print(\"Found solution:\")\n",
    "print_kakuro(fill_in(solution))\n",
    "\n",
    "print(\"Correct solution:\")\n",
    "print_kakuro(solved_kakuro)\n",
    "\n",
    "#wyswietlenie wykresu: jak zmieniala sie ocena na przestrzeni pokolen\n",
    "ga_instance.plot_fitness()"
   ]
  },
  {
   "cell_type": "code",
   "execution_count": 43,
   "id": "9e2a850e",
   "metadata": {},
   "outputs": [
    {
     "name": "stdout",
     "output_type": "stream",
     "text": [
      "Parameters of the best solution: [2. 3. 8. 9. 4. 1. 9. 4. 1. 1. 9. 8. 6. 4. 7. 2. 8. 3. 2. 9. 7. 8. 1. 3.\n",
      " 9. 4. 2. 9. 3. 8. 2. 9. 8. 2. 1. 8. 1. 9. 1. 7. 9. 8. 3. 9. 9. 1. 8. 1.\n",
      " 2. 9. 2. 6. 4. 8. 1. 9. 2. 7. 4. 4. 9. 1. 2. 8. 3. 1. 4. 7. 8. 2. 1. 9.\n",
      " 8. 2. 1. 9. 7. 1. 9. 4. 7. 1. 8. 9. 2. 1. 9. 2. 3. 1. 9. 2. 7. 1. 2. 9.\n",
      " 3. 8. 1. 3. 6. 4. 3. 8. 1. 9.]\n",
      "Fitness value of the best solution = -23\n",
      "Time elapsed: 48.252625703811646\n",
      "\n",
      "Found solution:\n",
      "['*', [0, 3], [0, 4], [0, 17], '*', [0, 23], [0, 11], '*', '*', [0, 7], [0, 17], [0, 10], '*', '*', '*']\n",
      "[[13, 0], 2, 3, 8, [13, 16], 9, 4, '*', [14, 17], 1, 9, 4, '*', [0, 4], [0, 17]]\n",
      "[[29, 0], 1, 1, 9, 8, 6, 4, [20, 4], 7, 2, 8, 3, [12, 17], 2, 9]\n",
      "['*', [0, 3], [0, 16], [32, 17], 7, 8, 1, 3, 9, 4, [22, 17], 2, 9, 3, 8]\n",
      "[[18, 0], 2, 9, 8, [0, 16], [3, 0], 2, 1, '*', [18, 10], 8, 1, 9, '*', '*']\n",
      "[[25, 0], 1, 7, 9, 8, [0, 3], '*', '*', [12, 23], 3, 9, '*', '*', '*', '*']\n",
      "['*', '*', '*', [11, 0], 9, 1, [0, 29], [8, 7], 8, 1, '*', '*', '*', '*', '*']\n",
      "['*', '*', '*', '*', [23, 0], 2, 9, 2, 6, 4, [0, 17], '*', '*', '*', '*']\n",
      "['*', '*', '*', '*', '*', [27, 0], 8, 1, 9, 2, 7, [0, 4], '*', '*', '*']\n",
      "['*', '*', '*', '*', '*', [8, 3], 4, 4, '*', [10, 0], 9, 1, [0, 3], [0, 4], [0, 17]]\n",
      "['*', '*', '*', [0, 17], [10, 10], 2, 8, '*', [0, 17], [0, 28], [15, 0], 3, 1, 4, 7]\n",
      "['*', [0, 16], [12, 3], 8, 2, 1, [0, 24], [17, 3], 9, 8, [0, 6], [12, 3], 2, 1, 9]\n",
      "[[21, 0], 7, 1, 9, 4, [28, 4], 7, 1, 8, 9, 2, 1, [0, 16], [0, 4], [0, 17]]\n",
      "[[11, 0], 9, 2, [15, 0], 3, 1, 9, 2, [30, 0], 7, 1, 2, 9, 3, 8]\n",
      "['*', '*', '*', [10, 0], 1, 3, 6, '*', [7, 0], 4, 3, [18, 0], 8, 1, 9]\n",
      "Correct solution:\n",
      "['*', [0, 3], [0, 4], [0, 17], '*', [0, 23], [0, 11], '*', '*', [0, 7], [0, 17], [0, 10], '*', '*', '*']\n",
      "[[13, 0], 1, 3, 9, [13, 16], 8, 5, '*', [14, 17], 2, 9, 3, '*', [0, 4], [0, 17]]\n",
      "[[29, 0], 2, 1, 8, 9, 6, 3, [20, 4], 9, 1, 8, 2, [12, 17], 3, 9]\n",
      "['*', [0, 3], [0, 16], [32, 17], 7, 9, 1, 3, 8, 4, [22, 17], 4, 9, 1, 8]\n",
      "[[18, 0], 2, 7, 9, [0, 16], [3, 0], 2, 1, '*', [18, 10], 9, 1, 8, '*', '*']\n",
      "[[25, 0], 1, 9, 8, 7, [0, 3], '*', '*', [12, 23], 4, 8, '*', '*', '*', '*']\n",
      "['*', '*', '*', [11, 0], 9, 2, [0, 29], [8, 7], 6, 2, '*', '*', '*', '*', '*']\n",
      "['*', '*', '*', '*', [23, 0], 1, 9, 2, 8, 3, [0, 17], '*', '*', '*', '*']\n",
      "['*', '*', '*', '*', '*', [27, 0], 5, 4, 9, 1, 8, [0, 4], '*', '*', '*']\n",
      "['*', '*', '*', '*', '*', [8, 3], 7, 1, '*', [10, 0], 9, 1, [0, 3], [0, 4], [0, 17]]\n",
      "['*', '*', '*', [0, 17], [10, 10], 2, 8, '*', [0, 17], [0, 28], [15, 0], 3, 2, 1, 9]\n",
      "['*', [0, 16], [12, 3], 8, 3, 1, [0, 24], [17, 3], 8, 9, [0, 6], [12, 3], 1, 3, 8]\n",
      "[[21, 0], 7, 1, 9, 4, [28, 4], 8, 1, 9, 5, 3, 2, [0, 16], [0, 4], [0, 17]]\n",
      "[[11, 0], 9, 2, [15, 0], 1, 3, 9, 2, [30, 0], 8, 2, 1, 7, 3, 9]\n",
      "['*', '*', '*', [10, 0], 2, 1, 7, '*', [7, 0], 6, 1, [18, 0], 9, 1, 8]\n"
     ]
    },
    {
     "data": {
      "image/png": "[encoded data removed]",
      "text/plain": [
       "<Figure size 432x288 with 1 Axes>"
      ]
     },
     "metadata": {
      "needs_background": "light"
     },
     "output_type": "display_data"
    },
    {
     "data": {
      "image/png": "[encoded data removed]",
      "text/plain": [
       "<Figure size 432x288 with 1 Axes>"
      ]
     },
     "execution_count": 43,
     "metadata": {},
     "output_type": "execute_result"
    }
   ],
   "source": [
    "#II KAKURO 15x15\n",
    "#podsumowanie: najlepsze znalezione rozwiazanie (chromosom+ocena)\n",
    "solution, solution_fitness, solution_idx = ga_instance.best_solution()\n",
    "print(\"Parameters of the best solution: {solution}\".format(solution=solution))\n",
    "print(\"Fitness value of the best solution = {solution_fitness}\".format(solution_fitness=solution_fitness))\n",
    "\n",
    "#czas\n",
    "print(\"Time elapsed: {time_e}\".format(time_e=time_e) + \"\\n\")\n",
    "\n",
    "print(\"Found solution:\")\n",
    "print_kakuro(fill_in(solution))\n",
    "\n",
    "print(\"Correct solution:\")\n",
    "print_kakuro(solved_kakuro)\n",
    "\n",
    "#wyswietlenie wykresu: jak zmieniala sie ocena na przestrzeni pokolen\n",
    "ga_instance.plot_fitness()"
   ]
  },
  {
   "cell_type": "code",
   "execution_count": 51,
   "id": "402adc4e",
   "metadata": {},
   "outputs": [
    {
     "name": "stdout",
     "output_type": "stream",
     "text": [
      "Parameters of the best solution: [7. 4. 8. 2. 9. 6. 2. 1. 9. 3. 8. 1. 3. 6. 4. 1. 2. 2. 3. 9. 7. 5. 4. 3.\n",
      " 1. 8. 3. 9. 8. 4. 1. 9. 2. 7. 5. 3. 8. 1. 9. 8. 1. 6. 4. 1. 7. 8. 9. 5.\n",
      " 3. 1. 2. 6. 9. 8. 2. 3. 9. 3. 2. 8. 6. 7. 1. 4. 6. 1. 3. 7. 2. 3. 6. 1.\n",
      " 8. 7. 9. 4. 8. 3. 4. 2. 5. 9. 8. 9. 1. 6. 4. 1. 4. 7. 8. 3. 9. 5. 1. 9.\n",
      " 1. 4.]\n",
      "Fitness value of the best solution = -57\n",
      "Time elapsed: 46.68117570877075\n",
      "\n",
      "Found solution:\n",
      "['*', '*', [0, 16], [0, 10], '*', [0, 17], [0, 4], [0, 34], '*', '*', '*', '*', '*', '*', '*']\n",
      "['*', [10, 0], 7, 4, [19, 4], 8, 2, 9, '*', '*', '*', '*', '*', '*', '*']\n",
      "['*', [29, 0], 6, 2, 1, 9, 3, 8, [0, 10], '*', '*', '*', '*', [0, 4], [0, 3]]\n",
      "['*', '*', [5, 15], 1, 3, '*', [10, 17], 6, 4, '*', '*', '*', [3, 11], 1, 2]\n",
      "['*', [5, 23], 2, 3, '*', [21, 30], 9, 7, 5, '*', '*', [9, 17], 4, 3, 1]\n",
      "[[11, 0], 8, 3, '*', [23, 4], 9, 8, 4, 1, [0, 17], [11, 0], 9, 2, '*', '*']\n",
      "[[12, 0], 7, 5, [11, 0], 3, 8, '*', [9, 0], 1, 9, [10, 30], 8, 1, [0, 16], '*']\n",
      "[[10, 0], 6, 4, [10, 10], 1, 7, [0, 17], '*', [17, 0], 8, 9, [8, 4], 5, 3, [0, 23]]\n",
      "['*', [3, 0], 1, 2, [15, 4], 6, 9, [0, 30], '*', [9, 0], 8, 2, [12, 0], 3, 9]\n",
      "['*', '*', [5, 0], 3, 2, [15, 0], 8, 6, [15, 0], [8, 4], 7, 1, [9, 0], 4, 6]\n",
      "['*', [0, 16], [4, 17], 1, 3, '*', [18, 0], 7, 2, 3, 6, '*', [8, 10], 1, 8]\n",
      "[[20, 0], 7, 9, 4, '*', '*', [15, 0], 8, 3, 4, '*', [6, 17], 2, 5, '*']\n",
      "[[16, 0], 9, 8, '*', '*', '*', [10, 0], 9, 1, [0, 4], [10, 16], 6, 4, [0, 17], '*']\n",
      "['*', '*', '*', '*', '*', '*', '*', [32, 0], 1, 4, 7, 8, 3, 9, '*']\n",
      "['*', '*', '*', '*', '*', '*', '*', [17, 0], 5, 1, 9, [0, 11], 1, 4, '*']\n",
      "Correct solution:\n",
      "['*', '*', [0, 16], [0, 10], '*', [0, 17], [0, 4], [0, 34], '*', '*', '*', '*', '*', '*', '*']\n",
      "['*', [10, 0], 7, 3, [19, 4], 9, 3, 7, '*', '*', '*', '*', '*', '*', '*']\n",
      "['*', [29, 0], 9, 2, 3, 8, 1, 6, [0, 10], '*', '*', '*', '*', [0, 4], [0, 3]]\n",
      "['*', '*', [5, 15], 4, 1, '*', [10, 17], 8, 2, '*', '*', '*', [3, 11], 1, 2]\n",
      "['*', [5, 23], 4, 1, '*', [21, 30], 8, 9, 4, '*', '*', [9, 17], 5, 3, 1]\n",
      "[[11, 0], 6, 5, '*', [23, 4], 7, 9, 4, 3, [0, 17], [11, 0], 8, 3, '*', '*']\n",
      "[[12, 0], 9, 3, [11, 0], 3, 8, '*', [9, 0], 1, 8, [10, 30], 9, 1, [0, 16], '*']\n",
      "[[10, 0], 8, 2, [10, 10], 1, 9, [0, 17], '*', [17, 0], 9, 8, [8, 4], 2, 6, [0, 23]]\n",
      "['*', [3, 0], 1, 2, [15, 4], 6, 9, [0, 30], '*', [9, 0], 6, 3, [12, 0], 3, 9]\n",
      "['*', '*', [5, 0], 4, 1, [15, 0], 8, 7, [15, 0], [8, 4], 7, 1, [9, 0], 1, 8]\n",
      "['*', [0, 16], [4, 17], 1, 3, '*', [18, 0], 6, 2, 1, 9, '*', [8, 10], 2, 6]\n",
      "[[20, 0], 9, 8, 3, '*', '*', [15, 0], 8, 4, 3, '*', [6, 17], 2, 4, '*']\n",
      "[[16, 0], 7, 9, '*', '*', '*', [10, 0], 9, 1, [0, 4], [10, 16], 9, 1, [0, 17], '*']\n",
      "['*', '*', '*', '*', '*', '*', '*', [32, 0], 3, 1, 7, 8, 4, 9, '*']\n",
      "['*', '*', '*', '*', '*', '*', '*', [17, 0], 5, 3, 9, [0, 11], 3, 8, '*']\n"
     ]
    },
    {
     "data": {
      "image/png": "[encoded data removed]",
      "text/plain": [
       "<Figure size 432x288 with 1 Axes>"
      ]
     },
     "metadata": {
      "needs_background": "light"
     },
     "output_type": "display_data"
    },
    {
     "data": {
      "image/png": "[encoded data removed]",
      "text/plain": [
       "<Figure size 432x288 with 1 Axes>"
      ]
     },
     "execution_count": 51,
     "metadata": {},
     "output_type": "execute_result"
    }
   ],
   "source": [
    "#III KAKURO 15x15\n",
    "#podsumowanie: najlepsze znalezione rozwiazanie (chromosom+ocena)\n",
    "solution, solution_fitness, solution_idx = ga_instance.best_solution()\n",
    "print(\"Parameters of the best solution: {solution}\".format(solution=solution))\n",
    "print(\"Fitness value of the best solution = {solution_fitness}\".format(solution_fitness=solution_fitness))\n",
    "\n",
    "#czas\n",
    "print(\"Time elapsed: {time_e}\".format(time_e=time_e) + \"\\n\")\n",
    "\n",
    "print(\"Found solution:\")\n",
    "print_kakuro(fill_in(solution))\n",
    "\n",
    "print(\"Correct solution:\")\n",
    "print_kakuro(solved_kakuro)\n",
    "\n",
    "#wyswietlenie wykresu: jak zmieniala sie ocena na przestrzeni pokolen\n",
    "ga_instance.plot_fitness()"
   ]
  },
  {
   "cell_type": "markdown",
   "id": "f5344a9b",
   "metadata": {},
   "source": [
    "Sprawdzanie efektywności algorytmu genetycznego"
   ]
  },
  {
   "cell_type": "code",
   "execution_count": 52,
   "id": "01b8e2da",
   "metadata": {},
   "outputs": [],
   "source": [
    "blank_kakuro_1 = [\n",
    "    ['*',[0,17],[0,6],'*','*'],\n",
    "    [[11,0],'_','_',[0,24],'*'],\n",
    "    [[17,0],'_','_','_',[0,3]],\n",
    "    ['*',[11,0],'_','_','_'],\n",
    "    ['*','*',[11,0],'_','_']\n",
    "]\n",
    "\n",
    "solved_kakuro_1 = [\n",
    "    ['*',[0,17],[0,6],'*','*'],\n",
    "    [[11,0], 8, 3,[0,24],'*'],\n",
    "    [[17,0], 9, 1, 7,[0,3]],\n",
    "    ['*',[11,0], 2, 8, 1],\n",
    "    ['*','*',[11,0], 9, 2]\n",
    "]\n",
    "\n",
    "blank_kakuro_2 = [\n",
    "    ['*','*','*',[0,6],[0,17]],\n",
    "    ['*','*',[11,23],'_','_'],\n",
    "    ['*',[19,17],'_','_','_'],\n",
    "    [[16,0],'_','_','_','*'],\n",
    "    [[17,0],'_','_','*','*']\n",
    "]\n",
    "\n",
    "solved_kakuro_2 = [\n",
    "    ['*','*','*',[0,6],[0,17]],\n",
    "    ['*','*',[11,23], 3, 8],\n",
    "    ['*',[19,17], 8, 2, 9],\n",
    "    [[16,0], 9, 6, 1,'*'],\n",
    "    [[17,0], 8, 9,'*','*']\n",
    "]\n",
    "\n",
    "blank_kakuro_3 = [\n",
    "    ['*','*','*',[0,7],[0,24]],\n",
    "    ['*',[0,24],[12,6],'_','_'],\n",
    "    [[21,0],'_','_','_','_'],\n",
    "    [[16,0],'_','_','_','_'],\n",
    "    [[8,0],'_','_','*','*']\n",
    "]\n",
    "\n",
    "solved_kakuro_3 = [\n",
    "    ['*','*','*',[0,7],[0,24]],\n",
    "    ['*',[0,24],[12,6], 4, 8],\n",
    "    [[21,0], 9, 3, 2, 7],\n",
    "    [[16,0], 8, 2, 1, 9],\n",
    "    [[8,0], 7, 1,'*','*']\n",
    "]\n",
    "\n",
    "s_inputs_blank = [blank_kakuro_1, blank_kakuro_2, blank_kakuro_3]\n",
    "s_inputs_solved = [solved_kakuro_1, solved_kakuro_2, solved_kakuro_3]"
   ]
  },
  {
   "cell_type": "code",
   "execution_count": 57,
   "id": "ac72d559",
   "metadata": {},
   "outputs": [
    {
     "name": "stdout",
     "output_type": "stream",
     "text": [
      "Solved kakuros:  24\n",
      "Average time elapsed:  0.8556523323059082\n"
     ]
    }
   ],
   "source": [
    "s_solved_kakuro = 0\n",
    "time_e = 0\n",
    "for i in range(100):\n",
    "    blank_kakuro = random.choice(s_inputs_blank)\n",
    "    sol_per_pop = 100\n",
    "    num_genes = counted(blank_kakuro) \n",
    "    num_parents_mating = 50 \n",
    "    num_generations = 300\n",
    "    keep_parents = 4 \n",
    "    parent_selection_type = \"tournament\"\n",
    "    crossover_type = \"single_point\"\n",
    "    mutation_type = 'random'\n",
    "    mutation_percent_genes = 0.1\n",
    "    \n",
    "    ga_instance = pygad.GA(gene_space=gene_space,\n",
    "                        num_generations=num_generations,\n",
    "                        num_parents_mating=num_parents_mating,\n",
    "                        fitness_func=fitness_function,\n",
    "                        sol_per_pop=sol_per_pop,\n",
    "                        num_genes=num_genes,\n",
    "                        parent_selection_type=parent_selection_type,\n",
    "                        keep_parents=keep_parents,\n",
    "                        crossover_type=crossover_type,\n",
    "                        mutation_type=mutation_type,\n",
    "                        mutation_percent_genes=mutation_percent_genes,\n",
    "                        stop_criteria = [\"reach_0\"])\n",
    "    start_time = time.time()\n",
    "    ga_instance.run()\n",
    "    end_time = time.time()\n",
    "    solution, solution_fitness, solution_idx = ga_instance.best_solution()\n",
    "    if solution_fitness == 0:\n",
    "        s_solved_kakuro += 1\n",
    "        time_e += end_time - start_time\n",
    "\n",
    "print(\"Solved kakuros: \", s_solved_kakuro)\n",
    "print(\"Average time elapsed: \", time_e / s_solved_kakuro)"
   ]
  },
  {
   "cell_type": "code",
   "execution_count": 58,
   "id": "d8b1fa24",
   "metadata": {},
   "outputs": [],
   "source": [
    "blank_kakuro_1 = [\n",
    "    ['*','*','*',[0,24],[0,10],'*','*','*'],\n",
    "    ['*','*',[12,30],'_','_',[0,16],[0,21],'*'],\n",
    "    ['*',[26,0],'_','_','_','_','_','*'],\n",
    "    ['*',[17,13],'_','_',[8,0],'_','_',[0,3]],\n",
    "    [[11,0],'_','_','*','*',[0,7],'_','_'],\n",
    "    [[14,0],'_','_',[0,12],'*',[5,11],'_','_'],\n",
    "    ['*',[7,0],'_','_',[13,17],'_','_','*'],\n",
    "    ['*',[25,0],'_','_','_','_','_','*'],\n",
    "    ['*','*','*',[12,0],'_','_','*','*']\n",
    "]\n",
    "\n",
    "solved_kakuro_1 = [\n",
    "    ['*','*','*',[0,24],[0,10],'*','*','*'],\n",
    "    ['*','*',[12,30], 8, 4,[0,16],[0,21],'*'],\n",
    "    ['*',[26,0], 1, 7, 6, 9, 3,'*'],\n",
    "    ['*',[17,13], 8, 9,[8,0], 7, 1,[0,3]],\n",
    "    [[11,0], 8, 3,'*','*',[0,7], 5, 2],\n",
    "    [[14,0], 5, 9,[0,12],'*',[5,11], 4, 1],\n",
    "    ['*',[7,0], 4, 3,[13,17], 7, 6,'*'],\n",
    "    ['*',[25,0], 5, 9, 8, 1, 2,'*'],\n",
    "    ['*','*','*',[12,0], 9, 3,'*','*']\n",
    "]\n",
    "\n",
    "blank_kakuro_2 = [\n",
    "    ['*','*','*',[0,11],[0,12],'*','*','*'],\n",
    "    ['*','*',[6,21],'_','_',[0,24],[0,3],[0,11]],\n",
    "    ['*',[36,11],'_','_','_','_','_','_'],\n",
    "    [[14,0],'_','_','*',[16,5],'_','_','_'],\n",
    "    [[13,0],'_','_',[11,17],'_','_',[0,20],[0,11]],\n",
    "    ['*',[0,12],[7,11],'_','_',[16,0],'_','_'],\n",
    "    [[22,0],'_','_','_',[0,6],[12,13],'_','_'],\n",
    "    [[26,0],'_','_','_','_','_','_','*'],\n",
    "    ['*','*','*',[9,0],'_','_','*','*']\n",
    "]\n",
    "    \n",
    "solved_kakuro_2 = [\n",
    "    ['*','*','*',[0,11],[0,12],'*','*','*'],\n",
    "    ['*','*',[6,21], 2, 4,[0,24],[0,3],[0,11]],\n",
    "    ['*',[36,11], 5, 9, 8, 7, 1, 6],\n",
    "    [[14,0], 5, 9,'*',[16,5], 9, 2, 5],\n",
    "    [[13,0], 6, 7,[11,17], 3, 8,[0,20],[0,11]],\n",
    "    ['*',[0,12],[7,11], 5, 2,[16,0], 9, 7],\n",
    "    [[22,0], 5, 9, 8,[0,6],[12,13], 8, 4],\n",
    "    [[26,0], 7, 2, 4, 1, 9, 3,'*'],\n",
    "    ['*','*','*',[9,0], 5, 4,'*','*']\n",
    "]\n",
    "\n",
    "blank_kakuro_3 = [\n",
    "    ['*','*','*',[0,14],[0,10],'*','*','*'],\n",
    "    ['*','*',[8,3],'_','_',[0,8],'*','*'],\n",
    "    ['*',[14,0],'_','_','_','_',[0,11],[0,7]],\n",
    "    ['*',[6,0],'_','_',[15,9],'_','_','_'],\n",
    "    ['*',[0,15],[10,5],'_','_',[21,4],'_','_'],\n",
    "    [[13,0],'_','_',[12,9],'_','_',[0,7],'*'],\n",
    "    [[12,0],'_','_','_',[7,7],'_','_','*'],\n",
    "    ['*','*',[21,0],'_','_','_','_','*'],\n",
    "    ['*','*','*',[4,0],'_','_','*','*']\n",
    "]\n",
    "\n",
    "solved_kakuro_3 = [\n",
    "    ['*','*','*',[0,14],[0,10],'*','*','*'],\n",
    "    ['*','*',[8,3], 2, 6,[0,8],'*','*'],\n",
    "    ['*',[14,0], 2, 1, 4, 7,[0,11],[0,7]],\n",
    "    ['*',[6,0], 1, 5,[15,9], 1, 8, 6],\n",
    "    ['*',[0,15],[10,5], 6, 4,[4,21], 3, 1],\n",
    "    [[13,0], 9, 4,[12,9], 5, 7,[0,7],'*'],\n",
    "    [[12,0], 6, 1, 5,[7,7], 2, 5,'*'],\n",
    "    ['*','*',[21,0], 4, 6, 9, 2,'*'],\n",
    "    ['*','*','*',[4,0], 1, 3,'*','*']\n",
    "]\n",
    "\n",
    "m_inputs_blank = [blank_kakuro_1, blank_kakuro_2, blank_kakuro_3]\n",
    "m_inputs_solved = [solved_kakuro_1, solved_kakuro_2, solved_kakuro_3]"
   ]
  },
  {
   "cell_type": "code",
   "execution_count": 59,
   "id": "8ba43565",
   "metadata": {},
   "outputs": [
    {
     "name": "stdout",
     "output_type": "stream",
     "text": [
      "Solved kakuros:  0\n"
     ]
    },
    {
     "ename": "ZeroDivisionError",
     "evalue": "division by zero",
     "output_type": "error",
     "traceback": [
      "\u001b[1;31m---------------------------------------------------------------------------\u001b[0m",
      "\u001b[1;31mZeroDivisionError\u001b[0m                         Traceback (most recent call last)",
      "\u001b[1;32m<ipython-input-59-0f0b3544e03f>\u001b[0m in \u001b[0;36m<module>\u001b[1;34m\u001b[0m\n\u001b[0;32m     34\u001b[0m \u001b[1;33m\u001b[0m\u001b[0m\n\u001b[0;32m     35\u001b[0m \u001b[0mprint\u001b[0m\u001b[1;33m(\u001b[0m\u001b[1;34m\"Solved kakuros: \"\u001b[0m\u001b[1;33m,\u001b[0m \u001b[0mm_solved_kakuro\u001b[0m\u001b[1;33m)\u001b[0m\u001b[1;33m\u001b[0m\u001b[1;33m\u001b[0m\u001b[0m\n\u001b[1;32m---> 36\u001b[1;33m \u001b[0mprint\u001b[0m\u001b[1;33m(\u001b[0m\u001b[1;34m\"Average time elapsed: \"\u001b[0m\u001b[1;33m,\u001b[0m \u001b[0mtime_e\u001b[0m \u001b[1;33m/\u001b[0m \u001b[0mm_solved_kakuro\u001b[0m\u001b[1;33m)\u001b[0m\u001b[1;33m\u001b[0m\u001b[1;33m\u001b[0m\u001b[0m\n\u001b[0m",
      "\u001b[1;31mZeroDivisionError\u001b[0m: division by zero"
     ]
    }
   ],
   "source": [
    "m_solved_kakuro = 0\n",
    "time_e = 0\n",
    "for i in range(100):\n",
    "    blank_kakuro = random.choice(m_inputs_blank)\n",
    "    sol_per_pop = 100\n",
    "    num_genes = counted(blank_kakuro) \n",
    "    num_parents_mating = 50 \n",
    "    num_generations = 300\n",
    "    keep_parents = 4 \n",
    "    parent_selection_type = \"tournament\"\n",
    "    crossover_type = \"single_point\"\n",
    "    mutation_type = 'random'\n",
    "    mutation_percent_genes = 0.1\n",
    "    \n",
    "    ga_instance = pygad.GA(gene_space=gene_space,\n",
    "                        num_generations=num_generations,\n",
    "                        num_parents_mating=num_parents_mating,\n",
    "                        fitness_func=fitness_function,\n",
    "                        sol_per_pop=sol_per_pop,\n",
    "                        num_genes=num_genes,\n",
    "                        parent_selection_type=parent_selection_type,\n",
    "                        keep_parents=keep_parents,\n",
    "                        crossover_type=crossover_type,\n",
    "                        mutation_type=mutation_type,\n",
    "                        mutation_percent_genes=mutation_percent_genes,\n",
    "                        stop_criteria = [\"reach_0\"])\n",
    "    start_time = time.time()\n",
    "    ga_instance.run()\n",
    "    end_time = time.time()\n",
    "    solution, solution_fitness, solution_idx = ga_instance.best_solution()\n",
    "    if solution_fitness == 0:\n",
    "        m_solved_kakuro += 1\n",
    "        time_e += end_time - start_time\n",
    "\n",
    "print(\"Solved kakuros: \", m_solved_kakuro)\n",
    "if m_solved_kakuro != 0:\n",
    "    print(\"Average time elapsed: \", time_e / m_solved_kakuro)"
   ]
  },
  {
   "cell_type": "code",
   "execution_count": 62,
   "id": "b012d3bb",
   "metadata": {},
   "outputs": [],
   "source": [
    "blank_kakuro_1 = [['*','*',[0,4],[0,17],'*','*','*','*',[0,4],[0,17],[0,30],'*','*','*','*'],\n",
    "                ['*',[11,0],'_','_',[0,11],[0,6],'*',[19,16],'_','_','_','*',[0,4],[0,3],[0,16]],\n",
    "                ['*', [15,0],'_','_','_','_',[25,17],'_','_','_','_',[11,4],'_','_','_'],\n",
    "                ['*','*','*',[21,30],'_','_','_','_',[0,6],[21,24],'_','_','_','_','_'],\n",
    "                ['*','*',[22,11],'_','_','_','_',[19,0],'_','_','_','_','*','*','*'],\n",
    "                ['*',[14,0],'_','_','_',[0,29],[0,16],[10,0],'_','_',[0,29],[0,6],'*','*','*'],\n",
    "                ['*',[8,4],'_','_',[15,7],'_','_',[17,0],'_','_','_','_','*',[0,10],[0,17]],\n",
    "                [[32,0],'_','_','_','_','_','_','*','*',[8,4],'_','_',[11,30],'_','_'],\n",
    "                [[6,0],'_','_',[7,0],'_','_',[0,24],[0,7],[31,0],'_','_','_','_','_','_'],\n",
    "                ['*','*','*',[22,0],'_','_','_','_',[12,0],'_','_',[11,10],'_','_','*'],\n",
    "                ['*','*','*','*',[0,3],[10,11],'_','_','*',[0,3],[13,24],'_','_','_','*'],\n",
    "                ['*',[0,3],[0,17],[15,16],'_','_','_','_',[19,17],'_','_','_','_','*','*'],\n",
    "                [[23,0],'_','_','_','_','_',[0,4],[20,16],'_','_','_','_',[0,16],[0,3],'*'],\n",
    "                [[18,0],'_','_','_',[20,0],'_','_','_','_',[18,0],'_','_','_','_','*'],\n",
    "                ['*','*','*','*',[11,0],'_','_','_','*','*','*',[11,0],'_','_','*']\n",
    "                \n",
    "]\n",
    "\n",
    "solved_kakuro_1 = [['*','*',[0,4],[0,17],'*','*','*','*',[0,4],[0,17],[0,30],'*','*','*','*'],\n",
    "                ['*',[11,0], 3, 8,[0,11],[0,6],'*',[19,16], 3, 9, 7,'*',[0,4],[0,3],[0,16]],\n",
    "                ['*', [15,0], 1, 9, 3, 2,[25,17], 7, 1, 8, 9,[11,4], 3, 1, 7],\n",
    "                ['*','*','*',[21,30], 1, 3, 8, 9,[0,6],[21,24], 6, 3, 1, 2, 9],\n",
    "                ['*','*',[22,11], 7, 5, 1, 9,[19,0], 3, 7, 8, 1,'*','*','*'],\n",
    "                ['*',[14,0], 3, 9, 2,[0,29],[0,16],[10,0], 2, 8,[0,29],[0,6],'*','*','*'],\n",
    "                ['*',[8,4], 2, 6,[15,7], 8, 7,[17,0], 1, 9, 5, 2,'*',[0,10],[0,17]],\n",
    "                [[32,0], 3, 1, 8, 4, 7, 9,'*','*',[8,4], 7, 1,[11,30], 3, 8],\n",
    "                [[6,0], 1, 5,[7,0], 2, 5,[0,24],[0,7],[31,0], 1, 8, 3, 6, 4, 9],\n",
    "                ['*','*','*',[22,0], 1, 9, 8, 4,[12,0], 3, 9,[11,10], 9, 2,'*'],\n",
    "                ['*','*','*','*',[0,3],[10,11], 9, 1,'*',[0,3],[13,24], 4, 8, 1,'*'],\n",
    "                ['*',[0,3],[0,17],[15,16], 1, 5, 7,2,[19,17], 2, 9, 1, 7,'*','*'],\n",
    "                [[23,0], 1, 8, 9, 2, 3,[0,4],[20,16], 9, 1, 7, 3,[0,16],[0,3],'*'],\n",
    "                [[18,0], 2, 9, 7,[20,0], 2, 1, 9, 8,[18,0], 8, 2, 7, 1,'*'],\n",
    "                ['*','*','*','*',[11,0], 1, 3, 7,'*','*','*',[11,0], 9, 2,'*']\n",
    "                \n",
    "]\n",
    "\n",
    "blank_kakuro_2 = [['*',[0,3],[0,4],[0,17],'*',[0,23],[0,11],'*','*',[0,7],[0,17],[0,10],'*','*','*'],\n",
    "                [[13,0],'_','_','_',[13,16],'_','_','*',[14,17],'_','_','_','*',[0,4],[0,17]],\n",
    "                [[29,0], '_','_','_','_','_','_',[20,4],'_','_','_','_',[12,17],'_','_'],\n",
    "                ['*',[0,3],[0,16],[32,17],'_','_','_','_','_','_',[22,17],'_','_','_','_'],\n",
    "                [[18,0],'_','_','_',[0,16],[3,0],'_','_','*',[18,10],'_','_','_','*','*'],\n",
    "                [[25,0],'_','_','_','_',[0,3],'*','*',[12,23],'_','_','*','*','*','*'],\n",
    "                ['*','*','*',[11,0],'_','_',[0,29],[8,7],'_','_','*','*','*','*','*'],\n",
    "                ['*','*','*','*',[23,0],'_','_','_','_','_',[0,17],'*','*','*','*'],\n",
    "                ['*','*','*','*','*',[27,0],'_','_','_','_','_',[0,4],'*','*','*'],\n",
    "                ['*','*','*','*','*',[8,3],'_','_','*',[10,0],'_','_',[0,3],[0,4],[0,17]],\n",
    "                ['*','*','*',[0,17],[10,10],'_','_','*',[0,17],[0,28],[15,0],'_','_','_','_'],\n",
    "                ['*',[0,16],[12,3],'_','_','_',[0,24],[17,3],'_','_',[0,6],[12,3],'_','_','_'],\n",
    "                [[21,0],'_','_','_','_',[28,4],'_','_','_','_','_','_',[0,16],[0,4],[0,17]],\n",
    "                [[11,0],'_','_',[15,0],'_','_','_','_',[30,0],'_','_','_','_','_','_'],\n",
    "                ['*','*','*',[10,0],'_','_','_','*',[7,0],'_','_',[18,0],'_','_','_']\n",
    "                \n",
    "]\n",
    "\n",
    "solved_kakuro_2 = [['*',[0,3],[0,4],[0,17],'*',[0,23],[0,11],'*','*',[0,7],[0,17],[0,10],'*','*','*'],\n",
    "                [[13,0], 1, 3, 9,[13,16], 8, 5,'*',[14,17], 2, 9, 3,'*',[0,4],[0,17]],\n",
    "                [[29,0], 2, 1, 8, 9, 6, 3,[20,4], 9, 1, 8, 2,[12,17], 3, 9],\n",
    "                ['*',[0,3],[0,16],[32,17], 7, 9, 1, 3, 8, 4,[22,17], 4, 9, 1, 8],\n",
    "                [[18,0], 2, 7, 9,[0,16],[3,0], 2, 1,'*',[18,10], 9, 1, 8,'*','*'],\n",
    "                [[25,0], 1, 9, 8, 7,[0,3],'*','*',[12,23], 4, 8,'*','*','*','*'],\n",
    "                ['*','*','*',[11,0], 9, 2,[0,29],[8,7], 6, 2,'*','*','*','*','*'],\n",
    "                ['*','*','*','*',[23,0], 1, 9, 2, 8, 3,[0,17],'*','*','*','*'],\n",
    "                ['*','*','*','*','*',[27,0], 5, 4, 9, 1, 8,[0,4],'*','*','*'],\n",
    "                ['*','*','*','*','*',[8,3], 7, 1,'*',[10,0], 9, 1,[0,3],[0,4],[0,17]],\n",
    "                ['*','*','*',[0,17],[10,10], 2, 8,'*',[0,17],[0,28],[15,0], 3, 2, 1, 9],\n",
    "                ['*',[0,16],[12,3], 8, 3, 1,[0,24],[17,3], 8, 9,[0,6],[12,3],1, 3, 8],\n",
    "                [[21,0], 7, 1, 9, 4,[28,4], 8, 1, 9, 5, 3, 2,[0,16],[0,4],[0,17]],\n",
    "                [[11,0], 9, 2,[15,0], 1, 3, 9, 2,[30,0], 8, 2, 1, 7, 3, 9],\n",
    "                ['*','*','*',[10,0], 2, 1, 7,'*',[7,0], 6, 1,[18,0], 9, 1, 8]\n",
    "                \n",
    "]\n",
    "\n",
    "blank_kakuro_3 = [['*','*',[0,16],[0,10],'*',[0,17],[0,4],[0,34],'*','*','*','*','*','*','*'],\n",
    "                ['*',[10,0],'_','_',[19,4],'_','_','_','*','*','*','*','*','*','*'],\n",
    "                ['*',[29,0],'_','_','_','_','_','_',[0,10],'*','*','*','*',[0,4],[0,3]],\n",
    "                ['*','*',[5,15],'_','_','*',[10,17],'_','_','*','*','*',[3,11],'_','_'],\n",
    "                ['*',[5,23],'_','_','*',[21,30],'_','_','_','*','*',[9,17],'_','_','_'],\n",
    "                [[11,0],'_','_','*',[23,4],'_','_','_','_',[0,17],[11,0],'_','_','*','*'],\n",
    "                [[12,0],'_','_',[11,0],'_','_','*',[9,0],'_','_',[10,30],'_','_',[0,16],'*'],\n",
    "                [[10,0],'_','_',[10,10],'_','_',[0,17],'*',[17,0],'_','_',[8,4],'_','_',[0,23]],\n",
    "                ['*',[3,0],'_','_',[15,4],'_','_',[0,30],'*',[9,0],'_','_',[12,0],'_','_'],\n",
    "                ['*','*',[5,0],'_','_',[15,0],'_','_',[15,0],[8,4],'_','_',[9,0],'_','_'],\n",
    "                ['*',[0,16],[4,17],'_','_','*',[18,0],'_','_','_','_','*',[8,10],'_','_'],\n",
    "                [[20,0],'_','_','_','*','*',[15,0],'_','_','_','*',[6,17],'_','_','*'],\n",
    "                [[16,0],'_','_','*','*','*',[10,0],'_','_',[0,4],[10,16],'_','_',[0,17],'*'],\n",
    "                ['*','*','*','*','*','*','*',[32,0],'_','_','_','_','_','_','*'],\n",
    "                ['*','*','*','*','*','*','*',[17,0],'_','_','_',[0,11],'_','_','*']\n",
    "                \n",
    "]\n",
    "\n",
    "solved_kakuro_3 = [['*','*',[0,16],[0,10],'*',[0,17],[0,4],[0,34],'*','*','*','*','*','*','*'],\n",
    "                ['*',[10,0], 7, 3,[19,4], 9, 3, 7,'*','*','*','*','*','*','*'],\n",
    "                ['*',[29,0], 9, 2, 3, 8, 1, 6,[0,10],'*','*','*','*',[0,4],[0,3]],\n",
    "                ['*','*',[5,15], 4, 1,'*',[10,17], 8, 2,'*','*','*',[3,11], 1, 2],\n",
    "                ['*',[5,23], 4, 1,'*',[21,30], 8, 9, 4,'*','*',[9,17], 5, 3, 1],\n",
    "                [[11,0], 6, 5,'*',[23,4], 7, 9, 4, 3,[0,17],[11,0], 8, 3,'*','*'],\n",
    "                [[12,0], 9, 3,[11,0], 3, 8,'*',[9,0], 1, 8,[10,30], 9, 1,[0,16],'*'],\n",
    "                [[10,0], 8, 2,[10,10], 1, 9,[0,17],'*',[17,0], 9, 8,[8,4], 2, 6,[0,23]],\n",
    "                ['*',[3,0], 1, 2,[15,4], 6, 9,[0,30],'*',[9,0], 6, 3,[12,0], 3, 9],\n",
    "                ['*','*',[5,0], 4, 1,[15,0], 8, 7,[15,0],[8,4], 7, 1,[9,0], 1, 8],\n",
    "                ['*',[0,16],[4,17], 1, 3,'*',[18,0], 6, 2, 1, 9,'*',[8,10], 2, 6],\n",
    "                [[20,0], 9, 8, 3,'*','*',[15,0], 8, 4, 3,'*',[6,17], 2, 4,'*'],\n",
    "                [[16,0], 7, 9,'*','*','*',[10,0], 9, 1,[0,4],[10,16], 9, 1,[0,17],'*'],\n",
    "                ['*','*','*','*','*','*','*',[32,0], 3, 1, 7, 8, 4, 9,'*'],\n",
    "                ['*','*','*','*','*','*','*',[17,0], 5, 3, 9,[0,11], 3, 8,'*']\n",
    "]\n",
    "\n",
    "l_inputs_blank = [blank_kakuro_1, blank_kakuro_2, blank_kakuro_3]\n",
    "l_inputs_solved = [solved_kakuro_1, solved_kakuro_2, solved_kakuro_3]"
   ]
  },
  {
   "cell_type": "code",
   "execution_count": null,
   "id": "d2f4acf1",
   "metadata": {},
   "outputs": [],
   "source": [
    "l_solved_kakuro = 0\n",
    "time_e = 0\n",
    "for i in range(100):\n",
    "    blank_kakuro = random.choice(l_inputs_blank)\n",
    "    sol_per_pop = 400\n",
    "    num_genes = counted(blank_kakuro) \n",
    "    num_parents_mating = 200 \n",
    "    num_generations = 1000\n",
    "    keep_parents = 12 \n",
    "    parent_selection_type = \"tournament\"\n",
    "    crossover_type = \"single_point\"\n",
    "    mutation_type = 'random'\n",
    "    mutation_percent_genes = 0.1\n",
    "    \n",
    "    ga_instance = pygad.GA(gene_space=gene_space,\n",
    "                        num_generations=num_generations,\n",
    "                        num_parents_mating=num_parents_mating,\n",
    "                        fitness_func=fitness_function,\n",
    "                        sol_per_pop=sol_per_pop,\n",
    "                        num_genes=num_genes,\n",
    "                        parent_selection_type=parent_selection_type,\n",
    "                        keep_parents=keep_parents,\n",
    "                        crossover_type=crossover_type,\n",
    "                        mutation_type=mutation_type,\n",
    "                        mutation_percent_genes=mutation_percent_genes,\n",
    "                        stop_criteria = [\"reach_0\"])\n",
    "    start_time = time.time()\n",
    "    ga_instance.run()\n",
    "    end_time = time.time()\n",
    "    solution, solution_fitness, solution_idx = ga_instance.best_solution()\n",
    "    if solution_fitness == 0:\n",
    "        m_solved_kakuro += 1\n",
    "        time_e += end_time - start_time\n",
    "\n",
    "print(\"Solved kakuros: \", l_solved_kakuro)\n",
    "if l_solved_kakuro != 0:\n",
    "    print(\"Average time elapsed: \", time_e / l_solved_kakuro)"
   ]
  },
  {
   "cell_type": "markdown",
   "id": "2e48d341",
   "metadata": {},
   "source": [
    "# Podsumowanie\n"
   ]
  },
  {
   "cell_type": "markdown",
   "id": "26758af7",
   "metadata": {},
   "source": [
    "Algorytm genetyczny zdaje się być niezbyt efektywny dla łamigłówki jaką jest kakuro. Może to wynikać ze jest to złożona i stosunkowo skomplikowana gra. Liczba możliwych kombinacji jakie możemy uzyskać poprzez losowe wpisywanie liczb w kratki kakuro oraz warunki, które te liczby muszą spełniać, wpływają negatywnie na jakość oraz czas pracy algorytmu."
   ]
  },
  {
   "cell_type": "markdown",
   "id": "56d2d00a",
   "metadata": {},
   "source": [
    "# Bibliografia\n"
   ]
  },
  {
   "cell_type": "markdown",
   "id": "34545c21",
   "metadata": {},
   "source": [
    "https://www.kakuros.com/ - przykłady do eksperymentu\n",
    "\n",
    "https://theory.tifr.res.in/~sgupta/kakuro/\n",
    "\n",
    "https://pygad.readthedocs.io/en/latest/"
   ]
  },
  {
   "cell_type": "code",
   "execution_count": null,
   "id": "2c0134b6",
   "metadata": {},
   "outputs": [],
   "source": []
  }
 ],
 "metadata": {
  "kernelspec": {
   "display_name": "Python 3",
   "language": "python",
   "name": "python3"
  },
  "language_info": {
   "codemirror_mode": {
    "name": "ipython",
    "version": 3
   },
   "file_extension": ".py",
   "mimetype": "text/x-python",
   "name": "python",
   "nbconvert_exporter": "python",
   "pygments_lexer": "ipython3",
   "version": "3.8.8"
  }
 },
 "nbformat": 4,
 "nbformat_minor": 5
}
